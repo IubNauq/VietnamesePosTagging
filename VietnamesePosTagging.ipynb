{
  "nbformat": 4,
  "nbformat_minor": 0,
  "metadata": {
    "colab": {
      "provenance": [],
      "toc_visible": true
    },
    "kernelspec": {
      "name": "python3",
      "display_name": "Python 3"
    },
    "language_info": {
      "name": "python"
    },
    "gpuClass": "standard",
    "accelerator": "GPU"
  },
  "cells": [
    {
      "cell_type": "code",
      "execution_count": null,
      "metadata": {
        "id": "dX2PwvmuQfmr"
      },
      "outputs": [],
      "source": [
        "from collections import defaultdict\n",
        "import unicodedata as ud\n",
        "import pandas as pd\n",
        "import numpy as np\n",
        "import math\n",
        "import ast\n",
        "import re"
      ]
    },
    {
      "cell_type": "code",
      "source": [
        "from google.colab import drive\n",
        "drive.mount('/content/gdrive')"
      ],
      "metadata": {
        "colab": {
          "base_uri": "https://localhost:8080/"
        },
        "id": "rUjoFGQitAIj",
        "outputId": "78734b51-b742-4e3b-8f42-cae3feb24609"
      },
      "execution_count": null,
      "outputs": [
        {
          "output_type": "stream",
          "name": "stdout",
          "text": [
            "Mounted at /content/gdrive\n"
          ]
        }
      ]
    },
    {
      "cell_type": "markdown",
      "source": [
        "#**1. Dữ liệu**\n"
      ],
      "metadata": {
        "id": "YZp5fA6ceY-K"
      }
    },
    {
      "cell_type": "code",
      "source": [
        "sentences = open('/content/gdrive/MyDrive/Colab/Xử lý ngôn ngữ tự nhiên/dataset/sentences.txt', encoding='utf-8').readlines()\n",
        "tokenize_sentences = [sentence.split(' ') for sentence in sentences]"
      ],
      "metadata": {
        "id": "rw38X9R3ec-j"
      },
      "execution_count": null,
      "outputs": []
    },
    {
      "cell_type": "code",
      "source": [
        "print('Số lượng câu đã thu thập:', len(sentences))\n",
        "sentences[0:2]"
      ],
      "metadata": {
        "colab": {
          "base_uri": "https://localhost:8080/"
        },
        "id": "hF9IBRxZejJN",
        "outputId": "8739df95-8c3d-4a0c-cba0-b50b2baa5d13"
      },
      "execution_count": null,
      "outputs": [
        {
          "output_type": "stream",
          "name": "stdout",
          "text": [
            "Số lượng câu đã thu thập: 60\n"
          ]
        },
        {
          "output_type": "execute_result",
          "data": {
            "text/plain": [
              "['Trong hơn 1.500 bảng quảng cáo ngoài trời tại TP.HCM có 49% điểm không phép , chủ yếu ở các vòng xoay , chân cầu vượt , tuyến đường lớn của các quận trung tâm .\\n',\n",
              " 'UBND tỉnh Bạc Liêu trao giấy chứng nhận đầu tư 13 dự án với tổng vốn hơn 16.700 tỷ đồng vào các lĩnh vực nông nghiệp , thương mại , hạ tầng .\\n']"
            ]
          },
          "metadata": {},
          "execution_count": 4
        }
      ]
    },
    {
      "cell_type": "code",
      "source": [
        "max_str = max(tokenize_sentences, key=len)\n",
        "print('Câu có số từ nhiều nhât:', len(max_str))\n",
        "' '.join(max_str)"
      ],
      "metadata": {
        "colab": {
          "base_uri": "https://localhost:8080/",
          "height": 70
        },
        "id": "ZcRK7NenfIzV",
        "outputId": "4a3107be-d1b8-4ce3-a70c-cbf5d60910a5"
      },
      "execution_count": null,
      "outputs": [
        {
          "output_type": "stream",
          "name": "stdout",
          "text": [
            "Câu có số từ nhiều nhât: 43\n"
          ]
        },
        {
          "output_type": "execute_result",
          "data": {
            "text/plain": [
              "'Ở Việt Nam , cuộc sống đã gần như bình thường : sự nhộn nhịp trở lại khắp các con phố ; cửa hàng , quán cà phê chật cứng ; khách du lịch quốc tế cũng đang đổ tới Việt Nam .\\n'"
            ],
            "application/vnd.google.colaboratory.intrinsic+json": {
              "type": "string"
            }
          },
          "metadata": {},
          "execution_count": 5
        }
      ]
    },
    {
      "cell_type": "code",
      "source": [
        "min_str = min(tokenize_sentences, key=len)\n",
        "print('Câu có số từ ít nhât:', len(min_str))\n",
        "' '.join(min_str)"
      ],
      "metadata": {
        "colab": {
          "base_uri": "https://localhost:8080/",
          "height": 53
        },
        "id": "he-qjLHpfMxB",
        "outputId": "388e56dd-ca55-4ad4-d847-048af2edd273"
      },
      "execution_count": null,
      "outputs": [
        {
          "output_type": "stream",
          "name": "stdout",
          "text": [
            "Câu có số từ ít nhât: 6\n"
          ]
        },
        {
          "output_type": "execute_result",
          "data": {
            "text/plain": [
              "'Con mèo trèo cây cau .\\n'"
            ],
            "application/vnd.google.colaboratory.intrinsic+json": {
              "type": "string"
            }
          },
          "metadata": {},
          "execution_count": 6
        }
      ]
    },
    {
      "cell_type": "markdown",
      "source": [
        "#**2. Tách từ**\n"
      ],
      "metadata": {
        "id": "nSMotaWLeZdC"
      }
    },
    {
      "cell_type": "markdown",
      "source": [
        "## **Thuật toán Longest Matching**"
      ],
      "metadata": {
        "id": "17Mxo641nQgt"
      }
    },
    {
      "cell_type": "code",
      "source": [
        "def syllablize(sentence):\n",
        "    word = '\\w+'\n",
        "    non_word = '[^\\w\\s]'\n",
        "    digits = '\\d+([\\.,_]\\d+)+'\n",
        "    \n",
        "    patterns = []\n",
        "    patterns.extend([word, non_word, digits])\n",
        "    patterns = f\"({'|'.join(patterns)})\"\n",
        "    \n",
        "    sentence = ud.normalize('NFC', sentence)\n",
        "    tokens = re.findall(patterns, sentence, re.UNICODE)\n",
        "    return [token[0] for token in tokens]"
      ],
      "metadata": {
        "id": "-XfHgEBOfiMv"
      },
      "execution_count": null,
      "outputs": []
    },
    {
      "cell_type": "code",
      "source": [
        "def load_n_grams(path):\n",
        "    with open(path, encoding='utf8') as f:\n",
        "        words = f.read()\n",
        "        words = ast.literal_eval(words)\n",
        "    return words"
      ],
      "metadata": {
        "id": "E6a6CkF5jqqs"
      },
      "execution_count": null,
      "outputs": []
    },
    {
      "cell_type": "code",
      "source": [
        "def longest_matching(sentence, bi_grams, tri_grams):\n",
        "    syllables = syllablize(sentence)\n",
        "    syl_len = len(syllables)\n",
        "    \n",
        "    curr_id = 0\n",
        "    word_list = []\n",
        "    done = False\n",
        "    \n",
        "    while (curr_id < syl_len) and (not done):\n",
        "        curr_word = syllables[curr_id]\n",
        "        if curr_id >= syl_len - 1:\n",
        "            word_list.append(curr_word)\n",
        "            done = True\n",
        "        else:\n",
        "            next_word = syllables[curr_id + 1]\n",
        "            pair_word = ' '.join([curr_word.lower(), next_word.lower()])\n",
        "            if curr_id >= (syl_len - 2):\n",
        "                if pair_word in bi_grams:\n",
        "                    word_list.append('_'.join([curr_word, next_word]))\n",
        "                    curr_id += 2\n",
        "                else:\n",
        "                    word_list.append(curr_word)\n",
        "                    curr_id += 1\n",
        "            else:\n",
        "                next_next_word = syllables[curr_id + 2]\n",
        "                triple_word = ' '.join([pair_word, next_next_word.lower()])\n",
        "                if triple_word in tri_grams:\n",
        "                    word_list.append('_'.join([curr_word, next_word, next_next_word]))\n",
        "                    curr_id += 3\n",
        "                elif pair_word in bi_grams:\n",
        "                    word_list.append('_'.join([curr_word, next_word]))\n",
        "                    curr_id += 2\n",
        "                else:\n",
        "                    word_list.append(curr_word)\n",
        "                    curr_id += 1\n",
        "    return word_list"
      ],
      "metadata": {
        "id": "El6g6GzHjtOF"
      },
      "execution_count": null,
      "outputs": []
    },
    {
      "cell_type": "code",
      "source": [
        "bi_grams = load_n_grams('/content/gdrive/MyDrive/Colab/Xử lý ngôn ngữ tự nhiên/resources/bi_grams.txt')\n",
        "tri_grams = load_n_grams('/content/gdrive/MyDrive/Colab/Xử lý ngôn ngữ tự nhiên/resources/tri_grams.txt')\n",
        "# TEST\n",
        "longest_matching('Du học sinh Việt đối mặt loạt chiêu trò lừa đảo tại Mỹ, tôi là học sinh, tôi ăn cơm', bi_grams, tri_grams)"
      ],
      "metadata": {
        "colab": {
          "base_uri": "https://localhost:8080/"
        },
        "id": "Wyf7n07DjvNd",
        "outputId": "573339e0-9a95-48bd-905c-ebf2a3e42c13"
      },
      "execution_count": null,
      "outputs": [
        {
          "output_type": "execute_result",
          "data": {
            "text/plain": [
              "['Du_học_sinh',\n",
              " 'Việt',\n",
              " 'đối_mặt',\n",
              " 'loạt',\n",
              " 'chiêu',\n",
              " 'trò',\n",
              " 'lừa_đảo',\n",
              " 'tại',\n",
              " 'Mỹ',\n",
              " ',',\n",
              " 'tôi',\n",
              " 'là',\n",
              " 'học_sinh',\n",
              " ',',\n",
              " 'tôi',\n",
              " 'ăn',\n",
              " 'cơm']"
            ]
          },
          "metadata": {},
          "execution_count": 10
        }
      ]
    },
    {
      "cell_type": "code",
      "source": [
        "len(bi_grams)"
      ],
      "metadata": {
        "colab": {
          "base_uri": "https://localhost:8080/"
        },
        "id": "miyClNJr27gX",
        "outputId": "ed1a9d51-e773-441f-88c5-d88ac1777056"
      },
      "execution_count": null,
      "outputs": [
        {
          "output_type": "execute_result",
          "data": {
            "text/plain": [
              "22705"
            ]
          },
          "metadata": {},
          "execution_count": 11
        }
      ]
    },
    {
      "cell_type": "code",
      "source": [
        "len(tri_grams)"
      ],
      "metadata": {
        "colab": {
          "base_uri": "https://localhost:8080/"
        },
        "id": "Vx05mXBK299z",
        "outputId": "72b7a399-8977-47a9-8af5-486905573162"
      },
      "execution_count": null,
      "outputs": [
        {
          "output_type": "execute_result",
          "data": {
            "text/plain": [
              "1907"
            ]
          },
          "metadata": {},
          "execution_count": 12
        }
      ]
    },
    {
      "cell_type": "code",
      "source": [
        "with open('/content/gdrive/MyDrive/Colab/Xử lý ngôn ngữ tự nhiên/results/longest_matching_tokens.txt', 'w', encoding='utf-8') as f:\n",
        "    longest_matching_sentences = []\n",
        "    for sentence in sentences:\n",
        "        word_list = longest_matching(sentence, bi_grams, tri_grams)\n",
        "        longest_matching_sentences.append(' '.join(word_list))\n",
        "        for word in word_list: f.write(word + '\\n')\n",
        "        if sentence != sentences[-1]: f.write('\\n')\n",
        "    f.write('\\n')\n",
        "longest_matching_sentences[0:3]"
      ],
      "metadata": {
        "colab": {
          "base_uri": "https://localhost:8080/"
        },
        "id": "IiA-MUDemnov",
        "outputId": "0422033b-2c93-43a5-9089-8bdce7728938"
      },
      "execution_count": null,
      "outputs": [
        {
          "output_type": "execute_result",
          "data": {
            "text/plain": [
              "['Trong hơn 1 . 500 bảng quảng_cáo ngoài_trời tại TP . HCM có 49 % điểm không phép , chủ_yếu ở các vòng xoay , chân cầu_vượt , tuyến đường lớn của các quận trung_tâm .',\n",
              " 'UBND tỉnh Bạc Liêu trao giấy chứng_nhận đầu_tư 13 dự_án với tổng vốn hơn 16 . 700 tỷ đồng vào các lĩnh_vực nông_nghiệp , thương_mại , hạ tầng .',\n",
              " 'Là nhà nghiên_cứu giáo_dục và truyền_thông khoa_học , Hoàng - đồng_nghiệp của tôi - rất bối_rối trước bài_học của cậu con_trai lớp 7 .']"
            ]
          },
          "metadata": {},
          "execution_count": 13
        }
      ]
    },
    {
      "cell_type": "code",
      "source": [
        "count_longest_matching_compounds = 0\n",
        "for sentence in longest_matching_sentences:\n",
        "    for word in sentence.split():\n",
        "        if '_' in word: count_longest_matching_compounds += 1\n",
        "print('Số lượng từ ghép khi tách từ bằng thuật toán Longest Matching:', count_longest_matching_compounds)"
      ],
      "metadata": {
        "colab": {
          "base_uri": "https://localhost:8080/"
        },
        "id": "oDNOR0fim7I_",
        "outputId": "ccc86469-261f-480f-fbb9-728e58b4a6fe"
      },
      "execution_count": null,
      "outputs": [
        {
          "output_type": "stream",
          "name": "stdout",
          "text": [
            "Số lượng từ ghép khi tách từ bằng thuật toán Longest Matching: 184\n"
          ]
        }
      ]
    },
    {
      "cell_type": "markdown",
      "source": [
        "## **Thư viện VNCoreNLP**"
      ],
      "metadata": {
        "id": "gxpf0nFrqGlR"
      }
    },
    {
      "cell_type": "code",
      "source": [
        "!pip install py_vncorenlp"
      ],
      "metadata": {
        "colab": {
          "base_uri": "https://localhost:8080/"
        },
        "id": "V6QEkxpfqtmC",
        "outputId": "d8c65e37-d0ad-4152-8883-0f04e1134ab9"
      },
      "execution_count": null,
      "outputs": [
        {
          "output_type": "stream",
          "name": "stdout",
          "text": [
            "Looking in indexes: https://pypi.org/simple, https://us-python.pkg.dev/colab-wheels/public/simple/\n",
            "Collecting py_vncorenlp\n",
            "  Downloading py_vncorenlp-0.1.3.tar.gz (3.9 kB)\n",
            "Collecting pyjnius\n",
            "  Downloading pyjnius-1.4.2-cp38-cp38-manylinux_2_17_x86_64.manylinux2014_x86_64.whl (1.5 MB)\n",
            "\u001b[K     |████████████████████████████████| 1.5 MB 23.2 MB/s \n",
            "\u001b[?25hRequirement already satisfied: six>=1.7.0 in /usr/local/lib/python3.8/dist-packages (from pyjnius->py_vncorenlp) (1.15.0)\n",
            "Building wheels for collected packages: py-vncorenlp\n",
            "  Building wheel for py-vncorenlp (setup.py) ... \u001b[?25l\u001b[?25hdone\n",
            "  Created wheel for py-vncorenlp: filename=py_vncorenlp-0.1.3-py3-none-any.whl size=4307 sha256=8d997efc206990eedf6916b7b589a7da760f486cbff171688e5fa221a8601027\n",
            "  Stored in directory: /root/.cache/pip/wheels/d7/73/13/6b1f2c14831151fc1417f3dc1fa6b241e27ad13f8c83691753\n",
            "Successfully built py-vncorenlp\n",
            "Installing collected packages: pyjnius, py-vncorenlp\n",
            "Successfully installed py-vncorenlp-0.1.3 pyjnius-1.4.2\n"
          ]
        }
      ]
    },
    {
      "cell_type": "code",
      "source": [
        "import py_vncorenlp\n",
        "py_vncorenlp.download_model(save_dir='./')\n",
        "model = py_vncorenlp.VnCoreNLP(annotators=[\"wseg\", \"pos\", \"ner\", \"parse\"], save_dir='./')"
      ],
      "metadata": {
        "id": "heIKNUVe6dd-"
      },
      "execution_count": null,
      "outputs": []
    },
    {
      "cell_type": "code",
      "source": [
        "# TEST\n",
        "text = \"Ông Nguyễn Khắc Chúc đang làm việc tại Đại học Quốc gia Hà Nội.\"\n",
        "output = model.word_segment(text)\n",
        "print(output)"
      ],
      "metadata": {
        "colab": {
          "base_uri": "https://localhost:8080/"
        },
        "id": "0qjxfXRgnyFa",
        "outputId": "c846f93d-4be9-4c29-d557-d20373f463b6"
      },
      "execution_count": null,
      "outputs": [
        {
          "output_type": "stream",
          "name": "stdout",
          "text": [
            "['Ông Nguyễn_Khắc_Chúc đang làm_việc tại Đại_học Quốc_gia Hà_Nội .']\n"
          ]
        }
      ]
    },
    {
      "cell_type": "code",
      "source": [
        "with open('/content/gdrive/MyDrive/Colab/Xử lý ngôn ngữ tự nhiên/results/vncore_tokens.txt', 'w', encoding='utf-8') as f:\n",
        "  vncore_sentences = []\n",
        "  for sentence in sentences:\n",
        "    output = model.word_segment(sentence)\n",
        "    for sentence in output:\n",
        "      vncore_sentences.append(sentence)\n",
        "      for word in sentence.split():\n",
        "        f.write(word+'\\n')\n",
        "      f.write('\\n')\n",
        "  print(vncore_sentences[0:5])"
      ],
      "metadata": {
        "colab": {
          "base_uri": "https://localhost:8080/"
        },
        "id": "vC07WJ-2okU5",
        "outputId": "43ba2749-8152-46e9-a5a9-02f70bed26a6"
      },
      "execution_count": null,
      "outputs": [
        {
          "output_type": "stream",
          "name": "stdout",
          "text": [
            "['Trong hơn 1.500 bảng quảng_cáo ngoài_trời tại TP. HCM có 49% điểm không phép , chủ_yếu ở các vòng xoay , chân cầu_vượt , tuyến đường lớn của các quận trung_tâm .', 'UBND tỉnh Bạc_Liêu trao giấy chứng_nhận đầu_tư 13 dự_án với tổng vốn hơn 16.700 tỷ đồng vào các lĩnh_vực nông_nghiệp , thương_mại , hạ_tầng .', 'Là nhà_nghiên_cứu giáo_dục và truyền_thông khoa_học , Hoàng - đồng_nghiệp của tôi - rất bối_rối trước bài_học của cậu con trai lớp 7 .', 'Ở Việt_Nam , cuộc_sống đã gần như bình_thường : sự nhộn_nhịp trở_lại khắp các con phố ; cửa_hàng , quán cà_phê chật_cứng ; khách du_lịch quốc_tế cũng đang đổ tới Việt_Nam .', 'Chính_quyền thành_phố Bắc_Kinh cấm chặn cổng nhà dân và lối ra vào toà chung_cư nhằm \" tối_ưu_hoá \" biện_pháp kiểm_soát chống Covid-19 .']\n"
          ]
        }
      ]
    },
    {
      "cell_type": "code",
      "source": [
        "count_vncore_compounds = 0\n",
        "for sentence in vncore_sentences:\n",
        "    for word in sentence.split():\n",
        "        if '_' in word: count_vncore_compounds += 1\n",
        "print('Số lượng từ ghép khi tách từ bằng thư viện VnCoreNLP:', count_vncore_compounds)"
      ],
      "metadata": {
        "colab": {
          "base_uri": "https://localhost:8080/"
        },
        "id": "FmW8BNSzxGur",
        "outputId": "34844442-e8d4-4f7e-c304-1b095be03b13"
      },
      "execution_count": null,
      "outputs": [
        {
          "output_type": "stream",
          "name": "stdout",
          "text": [
            "Số lượng từ ghép khi tách từ bằng thư viện VnCoreNLP: 206\n"
          ]
        }
      ]
    },
    {
      "cell_type": "markdown",
      "source": [
        "  ## **Thủ công**"
      ],
      "metadata": {
        "id": "OHrXBICG3RA5"
      }
    },
    {
      "cell_type": "code",
      "source": [
        "with open('/content/gdrive/MyDrive/Colab/Xử lý ngôn ngữ tự nhiên/results/manual_tokens.txt', 'r', encoding='utf-8') as f:\n",
        "    manual_tokenize_sentences = []\n",
        "    sentence = ''\n",
        "    for word in f:\n",
        "        if word == '\\n': \n",
        "            manual_tokenize_sentences.append(sentence.strip())\n",
        "            sentence = ''\n",
        "        else: sentence += word.replace('\\n', ' ')\n",
        "manual_tokenize_sentences[0:5]"
      ],
      "metadata": {
        "colab": {
          "base_uri": "https://localhost:8080/"
        },
        "id": "4pxWdqtY3Jjz",
        "outputId": "d00d298b-fcba-40d0-8d0b-3a9063ac954f"
      },
      "execution_count": null,
      "outputs": [
        {
          "output_type": "execute_result",
          "data": {
            "text/plain": [
              "['Trong hơn 1.500 bảng_quảng_cáo ngoài_trời tại TP.HCM có 49% điểm không phép , chủ_yếu ở các vòng_xoay , chân cầu_vượt , tuyến_đường lớn của các quận trung_tâm .',\n",
              " 'UBND tỉnh Bạc_Liêu trao giấy chứng_nhận đầu_tư 13 dự_án với tổng vốn hơn 16.700 tỷ đồng vào các lĩnh_vực nông_nghiệp , thương_mại , hạ_tầng .',\n",
              " 'Là nhà_nghiên_cứu giáo_dục và truyền_thông khoa_học , Hoàng - đồng_nghiệp của tôi - rất bối_rối trước bài_học của cậu con_trai lớp 7 .',\n",
              " 'Ở Việt_Nam , cuộc_sống đã gần như bình_thường : sự nhộn_nhịp trở_lại khắp các con_phố ; cửa_hàng , quán cà_phê chật_cứng ; khách du_lịch quốc_tế cũng đang đổ tới Việt_Nam .',\n",
              " 'Chính_quyền thành_phố Bắc_Kinh cấm chặn cổng nhà dân và lối ra vào toà chung_cư nhằm \" tối_ưu_hoá \" biện_pháp kiểm_soát chống Covid-19 .']"
            ]
          },
          "metadata": {},
          "execution_count": 20
        }
      ]
    },
    {
      "cell_type": "code",
      "source": [
        "count_manual_tokenize_compounds = 0\n",
        "for sentence in manual_tokenize_sentences:\n",
        "    for word in sentence.split():\n",
        "        if '_' in word: count_manual_tokenize_compounds += 1\n",
        "print('Số lượng từ ghép khi tách từ thủ công:', count_manual_tokenize_compounds)"
      ],
      "metadata": {
        "colab": {
          "base_uri": "https://localhost:8080/"
        },
        "id": "4ZjU5uSB3VzY",
        "outputId": "f17147d1-0ea0-4d15-fc6c-0f236e04131a"
      },
      "execution_count": null,
      "outputs": [
        {
          "output_type": "stream",
          "name": "stdout",
          "text": [
            "Số lượng từ ghép khi tách từ thủ công: 218\n"
          ]
        }
      ]
    },
    {
      "cell_type": "markdown",
      "source": [
        "## **Đánh giá kết quả tách từ**"
      ],
      "metadata": {
        "id": "KyvOHoNQ3i8Z"
      }
    },
    {
      "cell_type": "code",
      "source": [
        "def count_correct_words(pred, source, n_grams=3):\n",
        "    pred_words = pred.split()\n",
        "    source_words = source.split()\n",
        "    \n",
        "    total_true, tp = 0, 0\n",
        "    total_errors, fp = 0, 0\n",
        "    \n",
        "    idx = 0\n",
        "    while idx < len(pred_words):\n",
        "        if pred_words[idx] not in source_words[idx:(idx + n_grams)]: \n",
        "            if '_' in pred_words[idx]: fp += 1\n",
        "            del pred_words[idx]\n",
        "            total_errors += 1\n",
        "        else: idx += 1\n",
        "    \n",
        "    idx = 0\n",
        "    while idx < len(source_words):\n",
        "        if source_words[idx] not in pred_words[idx:(idx + n_grams)]: \n",
        "            del source_words[idx]\n",
        "        else: idx += 1\n",
        "    \n",
        "    if len(pred_words) < len(source_words): words = pred_words\n",
        "    else: words = source_words\n",
        "    \n",
        "    for idx in range (len(words)):\n",
        "        if pred_words[idx] == source_words[idx]:\n",
        "            if '_' in pred_words[idx]: tp += 1 \n",
        "            total_true += 1\n",
        "                    \n",
        "    return total_true, total_errors, tp, fp"
      ],
      "metadata": {
        "id": "SV2r7vbm3jOp"
      },
      "execution_count": null,
      "outputs": []
    },
    {
      "cell_type": "code",
      "source": [
        "def tokenize_evaluation(pred, source, n_grams=3):\n",
        "    total_true = 0\n",
        "    total_errors = 0\n",
        "    total_words = 0\n",
        "    \n",
        "    pred_tp = 0\n",
        "    pred_fp = 0\n",
        "    \n",
        "    for pred_sentence, source_sentence in zip(pred, source):\n",
        "        total_words += len(source_sentence.split())\n",
        "        if pred_sentence != source_sentence:\n",
        "            true, error, tp, fp = count_correct_words(pred_sentence, source_sentence, n_grams)\n",
        "            total_true += true \n",
        "            total_errors += error\n",
        "            pred_tp += tp\n",
        "            pred_fp += fp\n",
        "        else:\n",
        "            for word in source_sentence.split():\n",
        "                if '_' in word: pred_tp += 1\n",
        "                total_true += 1\n",
        "    return {\n",
        "        'Accuracy': total_true / total_words, \n",
        "        'Precision': pred_tp / (pred_tp + pred_fp),\n",
        "        'Recall': pred_tp / count_manual_tokenize_compounds,\n",
        "        'True Positive': pred_tp, \n",
        "        'False Positive': pred_fp,\n",
        "        'Total True': total_true, \n",
        "        'Total Errors': total_errors\n",
        "    }"
      ],
      "metadata": {
        "id": "t6R_6taZA5Hv"
      },
      "execution_count": null,
      "outputs": []
    },
    {
      "cell_type": "code",
      "source": [
        "longest_matching_evaluation = tokenize_evaluation(longest_matching_sentences, manual_tokenize_sentences)\n",
        "vncore_evaluation = tokenize_evaluation(vncore_sentences, manual_tokenize_sentences)\n",
        "pd.DataFrame(\n",
        "    [longest_matching_evaluation, vncore_evaluation], \n",
        "    index = ['Longest Matching', 'VnCoreNLP']\n",
        ").astype(object).T"
      ],
      "metadata": {
        "colab": {
          "base_uri": "https://localhost:8080/",
          "height": 269
        },
        "id": "1RN_29wzA7Wr",
        "outputId": "c90b63b9-f383-4085-8e4f-58b20cdb04ec"
      },
      "execution_count": null,
      "outputs": [
        {
          "output_type": "execute_result",
          "data": {
            "text/plain": [
              "               Longest Matching VnCoreNLP\n",
              "Accuracy               0.885989  0.962912\n",
              "Precision              0.929348  0.980583\n",
              "Recall                 0.784404  0.926606\n",
              "True Positive               171       202\n",
              "False Positive               13         4\n",
              "Total True                  645       701\n",
              "Total Errors                143        42"
            ],
            "text/html": [
              "\n",
              "  <div id=\"df-bf3a9880-b338-48b2-af59-29619b3a95c1\">\n",
              "    <div class=\"colab-df-container\">\n",
              "      <div>\n",
              "<style scoped>\n",
              "    .dataframe tbody tr th:only-of-type {\n",
              "        vertical-align: middle;\n",
              "    }\n",
              "\n",
              "    .dataframe tbody tr th {\n",
              "        vertical-align: top;\n",
              "    }\n",
              "\n",
              "    .dataframe thead th {\n",
              "        text-align: right;\n",
              "    }\n",
              "</style>\n",
              "<table border=\"1\" class=\"dataframe\">\n",
              "  <thead>\n",
              "    <tr style=\"text-align: right;\">\n",
              "      <th></th>\n",
              "      <th>Longest Matching</th>\n",
              "      <th>VnCoreNLP</th>\n",
              "    </tr>\n",
              "  </thead>\n",
              "  <tbody>\n",
              "    <tr>\n",
              "      <th>Accuracy</th>\n",
              "      <td>0.885989</td>\n",
              "      <td>0.962912</td>\n",
              "    </tr>\n",
              "    <tr>\n",
              "      <th>Precision</th>\n",
              "      <td>0.929348</td>\n",
              "      <td>0.980583</td>\n",
              "    </tr>\n",
              "    <tr>\n",
              "      <th>Recall</th>\n",
              "      <td>0.784404</td>\n",
              "      <td>0.926606</td>\n",
              "    </tr>\n",
              "    <tr>\n",
              "      <th>True Positive</th>\n",
              "      <td>171</td>\n",
              "      <td>202</td>\n",
              "    </tr>\n",
              "    <tr>\n",
              "      <th>False Positive</th>\n",
              "      <td>13</td>\n",
              "      <td>4</td>\n",
              "    </tr>\n",
              "    <tr>\n",
              "      <th>Total True</th>\n",
              "      <td>645</td>\n",
              "      <td>701</td>\n",
              "    </tr>\n",
              "    <tr>\n",
              "      <th>Total Errors</th>\n",
              "      <td>143</td>\n",
              "      <td>42</td>\n",
              "    </tr>\n",
              "  </tbody>\n",
              "</table>\n",
              "</div>\n",
              "      <button class=\"colab-df-convert\" onclick=\"convertToInteractive('df-bf3a9880-b338-48b2-af59-29619b3a95c1')\"\n",
              "              title=\"Convert this dataframe to an interactive table.\"\n",
              "              style=\"display:none;\">\n",
              "        \n",
              "  <svg xmlns=\"http://www.w3.org/2000/svg\" height=\"24px\"viewBox=\"0 0 24 24\"\n",
              "       width=\"24px\">\n",
              "    <path d=\"M0 0h24v24H0V0z\" fill=\"none\"/>\n",
              "    <path d=\"M18.56 5.44l.94 2.06.94-2.06 2.06-.94-2.06-.94-.94-2.06-.94 2.06-2.06.94zm-11 1L8.5 8.5l.94-2.06 2.06-.94-2.06-.94L8.5 2.5l-.94 2.06-2.06.94zm10 10l.94 2.06.94-2.06 2.06-.94-2.06-.94-.94-2.06-.94 2.06-2.06.94z\"/><path d=\"M17.41 7.96l-1.37-1.37c-.4-.4-.92-.59-1.43-.59-.52 0-1.04.2-1.43.59L10.3 9.45l-7.72 7.72c-.78.78-.78 2.05 0 2.83L4 21.41c.39.39.9.59 1.41.59.51 0 1.02-.2 1.41-.59l7.78-7.78 2.81-2.81c.8-.78.8-2.07 0-2.86zM5.41 20L4 18.59l7.72-7.72 1.47 1.35L5.41 20z\"/>\n",
              "  </svg>\n",
              "      </button>\n",
              "      \n",
              "  <style>\n",
              "    .colab-df-container {\n",
              "      display:flex;\n",
              "      flex-wrap:wrap;\n",
              "      gap: 12px;\n",
              "    }\n",
              "\n",
              "    .colab-df-convert {\n",
              "      background-color: #E8F0FE;\n",
              "      border: none;\n",
              "      border-radius: 50%;\n",
              "      cursor: pointer;\n",
              "      display: none;\n",
              "      fill: #1967D2;\n",
              "      height: 32px;\n",
              "      padding: 0 0 0 0;\n",
              "      width: 32px;\n",
              "    }\n",
              "\n",
              "    .colab-df-convert:hover {\n",
              "      background-color: #E2EBFA;\n",
              "      box-shadow: 0px 1px 2px rgba(60, 64, 67, 0.3), 0px 1px 3px 1px rgba(60, 64, 67, 0.15);\n",
              "      fill: #174EA6;\n",
              "    }\n",
              "\n",
              "    [theme=dark] .colab-df-convert {\n",
              "      background-color: #3B4455;\n",
              "      fill: #D2E3FC;\n",
              "    }\n",
              "\n",
              "    [theme=dark] .colab-df-convert:hover {\n",
              "      background-color: #434B5C;\n",
              "      box-shadow: 0px 1px 3px 1px rgba(0, 0, 0, 0.15);\n",
              "      filter: drop-shadow(0px 1px 2px rgba(0, 0, 0, 0.3));\n",
              "      fill: #FFFFFF;\n",
              "    }\n",
              "  </style>\n",
              "\n",
              "      <script>\n",
              "        const buttonEl =\n",
              "          document.querySelector('#df-bf3a9880-b338-48b2-af59-29619b3a95c1 button.colab-df-convert');\n",
              "        buttonEl.style.display =\n",
              "          google.colab.kernel.accessAllowed ? 'block' : 'none';\n",
              "\n",
              "        async function convertToInteractive(key) {\n",
              "          const element = document.querySelector('#df-bf3a9880-b338-48b2-af59-29619b3a95c1');\n",
              "          const dataTable =\n",
              "            await google.colab.kernel.invokeFunction('convertToInteractive',\n",
              "                                                     [key], {});\n",
              "          if (!dataTable) return;\n",
              "\n",
              "          const docLinkHtml = 'Like what you see? Visit the ' +\n",
              "            '<a target=\"_blank\" href=https://colab.research.google.com/notebooks/data_table.ipynb>data table notebook</a>'\n",
              "            + ' to learn more about interactive tables.';\n",
              "          element.innerHTML = '';\n",
              "          dataTable['output_type'] = 'display_data';\n",
              "          await google.colab.output.renderOutput(dataTable, element);\n",
              "          const docLink = document.createElement('div');\n",
              "          docLink.innerHTML = docLinkHtml;\n",
              "          element.appendChild(docLink);\n",
              "        }\n",
              "      </script>\n",
              "    </div>\n",
              "  </div>\n",
              "  "
            ]
          },
          "metadata": {},
          "execution_count": 24
        }
      ]
    },
    {
      "cell_type": "markdown",
      "source": [
        "#**3. Gán nhãn**\n"
      ],
      "metadata": {
        "id": "3IJ8XHtaeZsp"
      }
    },
    {
      "cell_type": "code",
      "source": [
        "longest_matching_tokens = open('/content/gdrive/MyDrive/Colab/Xử lý ngôn ngữ tự nhiên/results/longest_matching_tokens.txt', encoding='utf-8').readlines()\n",
        "print('Số lượng từ:', len(longest_matching_tokens))\n",
        "longest_matching_tokens[0:5]"
      ],
      "metadata": {
        "colab": {
          "base_uri": "https://localhost:8080/"
        },
        "id": "f7GNXtZ74Bp5",
        "outputId": "6893a918-1830-418c-8e4d-29ea864e0633"
      },
      "execution_count": null,
      "outputs": [
        {
          "output_type": "stream",
          "name": "stdout",
          "text": [
            "Số lượng từ: 854\n"
          ]
        },
        {
          "output_type": "execute_result",
          "data": {
            "text/plain": [
              "['Trong\\n', 'hơn\\n', '1\\n', '.\\n', '500\\n']"
            ]
          },
          "metadata": {},
          "execution_count": 25
        }
      ]
    },
    {
      "cell_type": "code",
      "source": [
        "vncore_tokens = open('/content/gdrive/MyDrive/Colab/Xử lý ngôn ngữ tự nhiên/results/vncore_tokens.txt', encoding='utf-8').readlines()\n",
        "print('Số lượng từ:', len(vncore_tokens))\n",
        "vncore_tokens[0:5]"
      ],
      "metadata": {
        "colab": {
          "base_uri": "https://localhost:8080/"
        },
        "id": "Bp8Q3O0Z3BMx",
        "outputId": "fbbaa57f-b1ce-4466-f44b-ad18007de4dd"
      },
      "execution_count": null,
      "outputs": [
        {
          "output_type": "stream",
          "name": "stdout",
          "text": [
            "Số lượng từ: 809\n"
          ]
        },
        {
          "output_type": "execute_result",
          "data": {
            "text/plain": [
              "['Trong\\n', 'hơn\\n', '1.500\\n', 'bảng\\n', 'quảng_cáo\\n']"
            ]
          },
          "metadata": {},
          "execution_count": 26
        }
      ]
    },
    {
      "cell_type": "code",
      "source": [
        "manual_tokens = open('/content/gdrive/MyDrive/Colab/Xử lý ngôn ngữ tự nhiên/results/manual_tokens.txt', encoding='utf-8').readlines()\n",
        "print('Số lượng từ:', len(manual_tokens))\n",
        "manual_tokens[0:5]"
      ],
      "metadata": {
        "colab": {
          "base_uri": "https://localhost:8080/"
        },
        "id": "czeKt18-4Enj",
        "outputId": "9e7acdac-dc9b-4649-e6f6-b38db7e1294f"
      },
      "execution_count": null,
      "outputs": [
        {
          "output_type": "stream",
          "name": "stdout",
          "text": [
            "Số lượng từ: 793\n"
          ]
        },
        {
          "output_type": "execute_result",
          "data": {
            "text/plain": [
              "['Trong\\n', 'hơn\\n', '1.500\\n', 'bảng_quảng_cáo\\n', 'ngoài_trời\\n']"
            ]
          },
          "metadata": {},
          "execution_count": 27
        }
      ]
    },
    {
      "cell_type": "code",
      "source": [
        "# TEST\n",
        "sentences = model.annotate_text(\"Ông Nguyễn Khắc Chúc đang làm việc tại Đại học Quốc gia Hà Nội.\")\n",
        "# if sentences=={}: print(\"\")\n",
        "sentences"
      ],
      "metadata": {
        "colab": {
          "base_uri": "https://localhost:8080/"
        },
        "id": "tPFHeq_K3M8V",
        "outputId": "03d007c7-757e-4d8e-9bf9-506d3ba5dd5f"
      },
      "execution_count": null,
      "outputs": [
        {
          "output_type": "execute_result",
          "data": {
            "text/plain": [
              "{0: [{'index': 1,\n",
              "   'wordForm': 'Ông',\n",
              "   'posTag': 'Nc',\n",
              "   'nerLabel': 'O',\n",
              "   'head': 4,\n",
              "   'depLabel': 'sub'},\n",
              "  {'index': 2,\n",
              "   'wordForm': 'Nguyễn_Khắc_Chúc',\n",
              "   'posTag': 'Np',\n",
              "   'nerLabel': 'B-PER',\n",
              "   'head': 1,\n",
              "   'depLabel': 'nmod'},\n",
              "  {'index': 3,\n",
              "   'wordForm': 'đang',\n",
              "   'posTag': 'R',\n",
              "   'nerLabel': 'O',\n",
              "   'head': 4,\n",
              "   'depLabel': 'adv'},\n",
              "  {'index': 4,\n",
              "   'wordForm': 'làm_việc',\n",
              "   'posTag': 'V',\n",
              "   'nerLabel': 'O',\n",
              "   'head': 0,\n",
              "   'depLabel': 'root'},\n",
              "  {'index': 5,\n",
              "   'wordForm': 'tại',\n",
              "   'posTag': 'E',\n",
              "   'nerLabel': 'O',\n",
              "   'head': 4,\n",
              "   'depLabel': 'loc'},\n",
              "  {'index': 6,\n",
              "   'wordForm': 'Đại_học',\n",
              "   'posTag': 'N',\n",
              "   'nerLabel': 'B-ORG',\n",
              "   'head': 5,\n",
              "   'depLabel': 'pob'},\n",
              "  {'index': 7,\n",
              "   'wordForm': 'Quốc_gia',\n",
              "   'posTag': 'N',\n",
              "   'nerLabel': 'I-ORG',\n",
              "   'head': 6,\n",
              "   'depLabel': 'nmod'},\n",
              "  {'index': 8,\n",
              "   'wordForm': 'Hà_Nội',\n",
              "   'posTag': 'Np',\n",
              "   'nerLabel': 'I-ORG',\n",
              "   'head': 6,\n",
              "   'depLabel': 'nmod'},\n",
              "  {'index': 9,\n",
              "   'wordForm': '.',\n",
              "   'posTag': 'CH',\n",
              "   'nerLabel': 'O',\n",
              "   'head': 4,\n",
              "   'depLabel': 'punct'}]}"
            ]
          },
          "metadata": {},
          "execution_count": 28
        }
      ]
    },
    {
      "cell_type": "code",
      "source": [
        "# TEST\n",
        "sentence = sentences[0]\n",
        "for word in sentence:\n",
        "  print(word['wordForm'], word['posTag'])"
      ],
      "metadata": {
        "colab": {
          "base_uri": "https://localhost:8080/"
        },
        "id": "xPek-yKh4kZr",
        "outputId": "4ae88a71-375b-4b66-8078-66b8bbb980ff"
      },
      "execution_count": null,
      "outputs": [
        {
          "output_type": "stream",
          "name": "stdout",
          "text": [
            "Ông Nc\n",
            "Nguyễn_Khắc_Chúc Np\n",
            "đang R\n",
            "làm_việc V\n",
            "tại E\n",
            "Đại_học N\n",
            "Quốc_gia N\n",
            "Hà_Nội Np\n",
            ". CH\n"
          ]
        }
      ]
    },
    {
      "cell_type": "code",
      "source": [
        "with open('/content/gdrive/MyDrive/Colab/Xử lý ngôn ngữ tự nhiên/dataset/gold_temp.txt', 'w', encoding='utf-8') as f:\n",
        "    for word in vncore_tokens:\n",
        "        word = word.replace('\\n', '')\n",
        "        \n",
        "        if '_' not in word: tag = model.annotate_text(word)\n",
        "        else: tag = model.annotate_text(word.replace('_', ' '))\n",
        "        \n",
        "        if tag == {}: f.write('\\n')\n",
        "        \n",
        "        else: f.write(word+\"\\t\"+tag[0][0]['posTag']+\"\\n\")\n",
        "    f.write('\\n')"
      ],
      "metadata": {
        "id": "7Rr-mBpo9dyD"
      },
      "execution_count": null,
      "outputs": []
    },
    {
      "cell_type": "markdown",
      "source": [
        "  - **Chia Dataset**"
      ],
      "metadata": {
        "id": "8CkB5yTLCFxn"
      }
    },
    {
      "cell_type": "code",
      "source": [
        "gold_corpus = open('/content/gdrive/MyDrive/Colab/Xử lý ngôn ngữ tự nhiên/dataset/gold.txt', encoding='utf-8').readlines()\n",
        "new_line_idx = [i for i, item in enumerate(vncore_tokens) if item == '\\n']"
      ],
      "metadata": {
        "id": "O59Y_0ZfCLH6"
      },
      "execution_count": null,
      "outputs": []
    },
    {
      "cell_type": "code",
      "source": [
        "with open('/content/gdrive/MyDrive/Colab/Xử lý ngôn ngữ tự nhiên/dataset/train_gold.txt', 'w', encoding='utf-8') as f:\n",
        "    for line in gold_corpus[:new_line_idx[45]]: f.write(line)"
      ],
      "metadata": {
        "id": "ZfSCI5nPpulP"
      },
      "execution_count": null,
      "outputs": []
    },
    {
      "cell_type": "code",
      "source": [
        "with open('/content/gdrive/MyDrive/Colab/Xử lý ngôn ngữ tự nhiên/dataset/test_gold.txt', 'w', encoding='utf-8') as f:\n",
        "    for line in gold_corpus[new_line_idx[45]:]: f.write(line)"
      ],
      "metadata": {
        "id": "znbA-rznqXfQ"
      },
      "execution_count": null,
      "outputs": []
    },
    {
      "cell_type": "code",
      "source": [
        "with open('/content/gdrive/MyDrive/Colab/Xử lý ngôn ngữ tự nhiên/dataset/train_words.txt', 'w', encoding='utf-8') as f:\n",
        "    for line in gold_corpus[:new_line_idx[45]]: f.write(re.sub('\\t.*', '', line))     \n",
        "    \n",
        "with open('/content/gdrive/MyDrive/Colab/Xử lý ngôn ngữ tự nhiên/dataset/test_words.txt', 'w', encoding='utf-8') as f:\n",
        "    for line in gold_corpus[new_line_idx[45]:]: f.write(re.sub('\\t.*', '', line))"
      ],
      "metadata": {
        "id": "WrZ5fUgmqhIF"
      },
      "execution_count": null,
      "outputs": []
    },
    {
      "cell_type": "markdown",
      "source": [
        "#**4. Xử lý dữ liệu**"
      ],
      "metadata": {
        "id": "31nqgStBCSbZ"
      }
    },
    {
      "cell_type": "code",
      "source": [
        "def preprocess(vocabs_dict, path):\n",
        "    data = []\n",
        "    file = open(path, encoding='utf-8').readlines()\n",
        "    \n",
        "    for index, word in enumerate(file):\n",
        "        if not word.split():\n",
        "            word = '--n--'\n",
        "            data.append(word)\n",
        "            continue\n",
        "        elif word.strip() not in vocabs_dict:\n",
        "            word = '--unk--'\n",
        "            data.append(word)\n",
        "            continue\n",
        "        data.append(word.strip())\n",
        "    return data"
      ],
      "metadata": {
        "id": "PqDgJT8NqsC2"
      },
      "execution_count": null,
      "outputs": []
    },
    {
      "cell_type": "code",
      "source": [
        "def plot_tag_counts(gold):\n",
        "    tags = [word_tag.split()[1] for word_tag in gold if word_tag.split()]\n",
        "    tag_counts = pd.DataFrame(tags)[0].value_counts()\n",
        "    tag_counts.plot.bar(rot=0, width=0.7, legend=False, figsize=(15, 5))\n",
        "    return pd.DataFrame(tag_counts).T.assign(Total=tag_counts.sum()) \n"
      ],
      "metadata": {
        "id": "Qvw2z77RrCTZ"
      },
      "execution_count": null,
      "outputs": []
    },
    {
      "cell_type": "markdown",
      "source": [
        "  ## **Từ vựng**"
      ],
      "metadata": {
        "id": "FqjBuPFKrFVc"
      }
    },
    {
      "cell_type": "code",
      "source": [
        "vocabs = open('/content/gdrive/MyDrive/Colab/Xử lý ngôn ngữ tự nhiên/resources/vocabs.txt', encoding='utf-8').read().split('\\n')\n",
        "vocabs_dict = {}\n",
        "index = 0\n",
        "\n",
        "for word in sorted(vocabs): \n",
        "    if word not in vocabs_dict: \n",
        "        vocabs_dict[word] = index  \n",
        "        index += 1\n"
      ],
      "metadata": {
        "id": "rq1ZXt_WrFEV"
      },
      "execution_count": null,
      "outputs": []
    },
    {
      "cell_type": "code",
      "source": [
        "print('Số lượng từ vựng:', len(vocabs_dict.keys()))\n",
        "count = 0\n",
        "\n",
        "for key, value in vocabs_dict.items():\n",
        "    print(f'{key}: {value}')\n",
        "    count += 1\n",
        "    if count > 20: break"
      ],
      "metadata": {
        "colab": {
          "base_uri": "https://localhost:8080/"
        },
        "id": "ck8kDtExrWEI",
        "outputId": "db2e40bc-1411-4b55-ed16-12e7fbecaf9a"
      },
      "execution_count": null,
      "outputs": [
        {
          "output_type": "stream",
          "name": "stdout",
          "text": [
            "Số lượng từ vựng: 54854\n",
            "!: 0\n",
            "\": 1\n",
            "#: 2\n",
            "$: 3\n",
            "%: 4\n",
            "&: 5\n",
            "': 6\n",
            "'': 7\n",
            "'40s: 8\n",
            "'60s: 9\n",
            "'70s: 10\n",
            "'80s: 11\n",
            "'86: 12\n",
            "'90s: 13\n",
            "'N: 14\n",
            "'S: 15\n",
            "'d: 16\n",
            "'em: 17\n",
            "'ll: 18\n",
            "'m: 19\n",
            "'n': 20\n"
          ]
        }
      ]
    },
    {
      "cell_type": "markdown",
      "source": [
        "##**Chia Dataset**"
      ],
      "metadata": {
        "id": "5vDdrTXfrcXA"
      }
    },
    {
      "cell_type": "markdown",
      "source": [
        "- **Train data**"
      ],
      "metadata": {
        "id": "r0b2jUNB1145"
      }
    },
    {
      "cell_type": "code",
      "source": [
        "train_gold = open('/content/gdrive/MyDrive/Colab/Xử lý ngôn ngữ tự nhiên/dataset/train_gold.txt', encoding='utf-8').readlines()\n",
        "print('Số lượng từ trong tập train_gold:', len(train_gold))\n",
        "train_gold[0:5]"
      ],
      "metadata": {
        "colab": {
          "base_uri": "https://localhost:8080/"
        },
        "id": "2TfMqp5Wrcpg",
        "outputId": "036bfc06-8427-43c8-d23f-b80d0048d861"
      },
      "execution_count": null,
      "outputs": [
        {
          "output_type": "stream",
          "name": "stdout",
          "text": [
            "Số lượng từ trong tập train_gold: 661\n"
          ]
        },
        {
          "output_type": "execute_result",
          "data": {
            "text/plain": [
              "['Trong\\tE\\n',\n",
              " 'hơn\\tA\\n',\n",
              " '1.500\\tM\\n',\n",
              " 'bảng_quảng_cáo\\tN\\n',\n",
              " 'ngoài_trời\\tX\\n']"
            ]
          },
          "metadata": {},
          "execution_count": 39
        }
      ]
    },
    {
      "cell_type": "code",
      "source": [
        "train_words = preprocess(vocabs_dict, '/content/gdrive/MyDrive/Colab/Xử lý ngôn ngữ tự nhiên/dataset/train_words.txt')\n",
        "print('Số lượng từ trong tập train_words:', len(train_words))\n",
        "train_words[0:5]"
      ],
      "metadata": {
        "colab": {
          "base_uri": "https://localhost:8080/"
        },
        "id": "jer7O0I6rhZx",
        "outputId": "8d26f6d5-78bb-4d7d-833b-2d58cb6a795d"
      },
      "execution_count": null,
      "outputs": [
        {
          "output_type": "stream",
          "name": "stdout",
          "text": [
            "Số lượng từ trong tập train_words: 661\n"
          ]
        },
        {
          "output_type": "execute_result",
          "data": {
            "text/plain": [
              "['Trong', 'hơn', '1.500', '--unk--', 'ngoài_trời']"
            ]
          },
          "metadata": {},
          "execution_count": 40
        }
      ]
    },
    {
      "cell_type": "code",
      "source": [
        "print('Các từ không nằm trong vocabs', end=': ')\n",
        "for word_tag, word in zip(train_gold, train_words):\n",
        "    if word == '--unk--': print(word_tag.split()[0], end=', ')\n",
        "plot_tag_counts(train_gold)"
      ],
      "metadata": {
        "colab": {
          "base_uri": "https://localhost:8080/",
          "height": 421
        },
        "id": "d4uVfUiUtj6v",
        "outputId": "d2d9b5f4-feb5-46f1-93fc-83c0e0022ec5"
      },
      "execution_count": null,
      "outputs": [
        {
          "output_type": "stream",
          "name": "stdout",
          "text": [
            "Các từ không nằm trong vocabs: bảng_quảng_cáo, TP.HCM, 49%, vòng_xoay, tuyến_đường, Bạc_Liêu, hạ_tầng, nhà_nghiên_cứu, Hoàng, Việt_Nam, con_phố, Việt_Nam, Bắc_Kinh, tối_ưu_hoá, Bắc_Kinh, Messi, Con_trai, Arab_Saudi, Việt_Nam, Phương_Tây, châu_Á, Bỉ, Ronaldo, Instagram, Neymar, Serbia, World_Cup, Costa_Rica, World_Cup, Việt_Nam, bài_thi, Tân_Sơn_Nhất, khảo_thí, Hầu_hết, TP.HCM, Tết_Nguyên_đán, Hơn, Việt, chiêu_trò, Covid, Cậu, Việt_Nam, sam_biển, Twitter, Elon_Musk, ôtô, Trung_Quốc, Thạch_Sanh, Hà_Nội, Việt_Nam, "
          ]
        },
        {
          "output_type": "execute_result",
          "data": {
            "text/plain": [
              "     N    V  CH  Np   E   A   R   P   M   L  Cc  X  C  Ni  Y  T  Nc  Ny  Nu  \\\n",
              "0  195  125  75  43  42  41  23  17  14  12   6  5  5   3  2  2   2   1   1   \n",
              "\n",
              "   Total  \n",
              "0    614  "
            ],
            "text/html": [
              "\n",
              "  <div id=\"df-d5196e48-c577-4db4-973b-b8eda860e9c7\">\n",
              "    <div class=\"colab-df-container\">\n",
              "      <div>\n",
              "<style scoped>\n",
              "    .dataframe tbody tr th:only-of-type {\n",
              "        vertical-align: middle;\n",
              "    }\n",
              "\n",
              "    .dataframe tbody tr th {\n",
              "        vertical-align: top;\n",
              "    }\n",
              "\n",
              "    .dataframe thead th {\n",
              "        text-align: right;\n",
              "    }\n",
              "</style>\n",
              "<table border=\"1\" class=\"dataframe\">\n",
              "  <thead>\n",
              "    <tr style=\"text-align: right;\">\n",
              "      <th></th>\n",
              "      <th>N</th>\n",
              "      <th>V</th>\n",
              "      <th>CH</th>\n",
              "      <th>Np</th>\n",
              "      <th>E</th>\n",
              "      <th>A</th>\n",
              "      <th>R</th>\n",
              "      <th>P</th>\n",
              "      <th>M</th>\n",
              "      <th>L</th>\n",
              "      <th>Cc</th>\n",
              "      <th>X</th>\n",
              "      <th>C</th>\n",
              "      <th>Ni</th>\n",
              "      <th>Y</th>\n",
              "      <th>T</th>\n",
              "      <th>Nc</th>\n",
              "      <th>Ny</th>\n",
              "      <th>Nu</th>\n",
              "      <th>Total</th>\n",
              "    </tr>\n",
              "  </thead>\n",
              "  <tbody>\n",
              "    <tr>\n",
              "      <th>0</th>\n",
              "      <td>195</td>\n",
              "      <td>125</td>\n",
              "      <td>75</td>\n",
              "      <td>43</td>\n",
              "      <td>42</td>\n",
              "      <td>41</td>\n",
              "      <td>23</td>\n",
              "      <td>17</td>\n",
              "      <td>14</td>\n",
              "      <td>12</td>\n",
              "      <td>6</td>\n",
              "      <td>5</td>\n",
              "      <td>5</td>\n",
              "      <td>3</td>\n",
              "      <td>2</td>\n",
              "      <td>2</td>\n",
              "      <td>2</td>\n",
              "      <td>1</td>\n",
              "      <td>1</td>\n",
              "      <td>614</td>\n",
              "    </tr>\n",
              "  </tbody>\n",
              "</table>\n",
              "</div>\n",
              "      <button class=\"colab-df-convert\" onclick=\"convertToInteractive('df-d5196e48-c577-4db4-973b-b8eda860e9c7')\"\n",
              "              title=\"Convert this dataframe to an interactive table.\"\n",
              "              style=\"display:none;\">\n",
              "        \n",
              "  <svg xmlns=\"http://www.w3.org/2000/svg\" height=\"24px\"viewBox=\"0 0 24 24\"\n",
              "       width=\"24px\">\n",
              "    <path d=\"M0 0h24v24H0V0z\" fill=\"none\"/>\n",
              "    <path d=\"M18.56 5.44l.94 2.06.94-2.06 2.06-.94-2.06-.94-.94-2.06-.94 2.06-2.06.94zm-11 1L8.5 8.5l.94-2.06 2.06-.94-2.06-.94L8.5 2.5l-.94 2.06-2.06.94zm10 10l.94 2.06.94-2.06 2.06-.94-2.06-.94-.94-2.06-.94 2.06-2.06.94z\"/><path d=\"M17.41 7.96l-1.37-1.37c-.4-.4-.92-.59-1.43-.59-.52 0-1.04.2-1.43.59L10.3 9.45l-7.72 7.72c-.78.78-.78 2.05 0 2.83L4 21.41c.39.39.9.59 1.41.59.51 0 1.02-.2 1.41-.59l7.78-7.78 2.81-2.81c.8-.78.8-2.07 0-2.86zM5.41 20L4 18.59l7.72-7.72 1.47 1.35L5.41 20z\"/>\n",
              "  </svg>\n",
              "      </button>\n",
              "      \n",
              "  <style>\n",
              "    .colab-df-container {\n",
              "      display:flex;\n",
              "      flex-wrap:wrap;\n",
              "      gap: 12px;\n",
              "    }\n",
              "\n",
              "    .colab-df-convert {\n",
              "      background-color: #E8F0FE;\n",
              "      border: none;\n",
              "      border-radius: 50%;\n",
              "      cursor: pointer;\n",
              "      display: none;\n",
              "      fill: #1967D2;\n",
              "      height: 32px;\n",
              "      padding: 0 0 0 0;\n",
              "      width: 32px;\n",
              "    }\n",
              "\n",
              "    .colab-df-convert:hover {\n",
              "      background-color: #E2EBFA;\n",
              "      box-shadow: 0px 1px 2px rgba(60, 64, 67, 0.3), 0px 1px 3px 1px rgba(60, 64, 67, 0.15);\n",
              "      fill: #174EA6;\n",
              "    }\n",
              "\n",
              "    [theme=dark] .colab-df-convert {\n",
              "      background-color: #3B4455;\n",
              "      fill: #D2E3FC;\n",
              "    }\n",
              "\n",
              "    [theme=dark] .colab-df-convert:hover {\n",
              "      background-color: #434B5C;\n",
              "      box-shadow: 0px 1px 3px 1px rgba(0, 0, 0, 0.15);\n",
              "      filter: drop-shadow(0px 1px 2px rgba(0, 0, 0, 0.3));\n",
              "      fill: #FFFFFF;\n",
              "    }\n",
              "  </style>\n",
              "\n",
              "      <script>\n",
              "        const buttonEl =\n",
              "          document.querySelector('#df-d5196e48-c577-4db4-973b-b8eda860e9c7 button.colab-df-convert');\n",
              "        buttonEl.style.display =\n",
              "          google.colab.kernel.accessAllowed ? 'block' : 'none';\n",
              "\n",
              "        async function convertToInteractive(key) {\n",
              "          const element = document.querySelector('#df-d5196e48-c577-4db4-973b-b8eda860e9c7');\n",
              "          const dataTable =\n",
              "            await google.colab.kernel.invokeFunction('convertToInteractive',\n",
              "                                                     [key], {});\n",
              "          if (!dataTable) return;\n",
              "\n",
              "          const docLinkHtml = 'Like what you see? Visit the ' +\n",
              "            '<a target=\"_blank\" href=https://colab.research.google.com/notebooks/data_table.ipynb>data table notebook</a>'\n",
              "            + ' to learn more about interactive tables.';\n",
              "          element.innerHTML = '';\n",
              "          dataTable['output_type'] = 'display_data';\n",
              "          await google.colab.output.renderOutput(dataTable, element);\n",
              "          const docLink = document.createElement('div');\n",
              "          docLink.innerHTML = docLinkHtml;\n",
              "          element.appendChild(docLink);\n",
              "        }\n",
              "      </script>\n",
              "    </div>\n",
              "  </div>\n",
              "  "
            ]
          },
          "metadata": {},
          "execution_count": 41
        },
        {
          "output_type": "display_data",
          "data": {
            "text/plain": [
              "<Figure size 1080x360 with 1 Axes>"
            ],
            "image/png": "[encoded data removed]"
          },
          "metadata": {
            "needs_background": "light"
          }
        }
      ]
    },
    {
      "cell_type": "markdown",
      "source": [
        "  - **Test Data**"
      ],
      "metadata": {
        "id": "TWX7Q7kSt6qW"
      }
    },
    {
      "cell_type": "code",
      "source": [
        "test_gold = open('/content/gdrive/MyDrive/Colab/Xử lý ngôn ngữ tự nhiên/dataset/test_gold.txt', encoding='utf-8').readlines()\n",
        "print('Số lượng từ trong tập test_gold:', len(test_gold))\n",
        "test_gold[0:5]"
      ],
      "metadata": {
        "colab": {
          "base_uri": "https://localhost:8080/"
        },
        "id": "jS3I6FW1t7r_",
        "outputId": "c9d1d3a4-2616-4240-b770-8cfa0272eb14"
      },
      "execution_count": null,
      "outputs": [
        {
          "output_type": "stream",
          "name": "stdout",
          "text": [
            "Số lượng từ trong tập test_gold: 132\n"
          ]
        },
        {
          "output_type": "execute_result",
          "data": {
            "text/plain": [
              "['SUV\\tY\\n', 'chạy\\tV\\n', 'xăng\\tN\\n', ',\\tCH\\n', 'sạc\\tV\\n']"
            ]
          },
          "metadata": {},
          "execution_count": 42
        }
      ]
    },
    {
      "cell_type": "code",
      "source": [
        "test_words = preprocess(vocabs_dict, '/content/gdrive/MyDrive/Colab/Xử lý ngôn ngữ tự nhiên/dataset/test_words.txt')\n",
        "print('Số lượng từ trong tập test_words:', len(test_words))\n",
        "test_words[0:5]"
      ],
      "metadata": {
        "colab": {
          "base_uri": "https://localhost:8080/"
        },
        "id": "qbWoKvRx3AEM",
        "outputId": "c8d7260d-700f-4b43-b6b2-f2b73fb4b409"
      },
      "execution_count": null,
      "outputs": [
        {
          "output_type": "stream",
          "name": "stdout",
          "text": [
            "Số lượng từ trong tập test_words: 132\n"
          ]
        },
        {
          "output_type": "execute_result",
          "data": {
            "text/plain": [
              "['--unk--', 'chạy', 'xăng', ',', 'sạc']"
            ]
          },
          "metadata": {},
          "execution_count": 43
        }
      ]
    },
    {
      "cell_type": "code",
      "source": [
        "print('Các từ không nằm trong vocabs', end=': ')\n",
        "for word_tag, word in zip(test_gold, test_words):\n",
        "    if word == '--unk--': print(word_tag.split()[0], end=', ')\n",
        "plot_tag_counts(test_gold)"
      ],
      "metadata": {
        "colab": {
          "base_uri": "https://localhost:8080/",
          "height": 401
        },
        "id": "CkHIURfe3akk",
        "outputId": "c286b3f7-0c86-4f00-ece2-5293d4abc50f"
      },
      "execution_count": null,
      "outputs": [
        {
          "output_type": "stream",
          "name": "stdout",
          "text": [
            "Các từ không nằm trong vocabs: SUV, Bỉ, CĐV, VAR, Bắc_Kinh, Nga, Belarus, Nga, "
          ]
        },
        {
          "output_type": "execute_result",
          "data": {
            "text/plain": [
              "    N   V  CH  E  Np  A  R  P  Ni  L  C  Y  Total\n",
              "0  38  29  15  9   8  5  4  4   3  2  2  1    120"
            ],
            "text/html": [
              "\n",
              "  <div id=\"df-bf681dd2-156d-48eb-a9b5-b6d8e326c581\">\n",
              "    <div class=\"colab-df-container\">\n",
              "      <div>\n",
              "<style scoped>\n",
              "    .dataframe tbody tr th:only-of-type {\n",
              "        vertical-align: middle;\n",
              "    }\n",
              "\n",
              "    .dataframe tbody tr th {\n",
              "        vertical-align: top;\n",
              "    }\n",
              "\n",
              "    .dataframe thead th {\n",
              "        text-align: right;\n",
              "    }\n",
              "</style>\n",
              "<table border=\"1\" class=\"dataframe\">\n",
              "  <thead>\n",
              "    <tr style=\"text-align: right;\">\n",
              "      <th></th>\n",
              "      <th>N</th>\n",
              "      <th>V</th>\n",
              "      <th>CH</th>\n",
              "      <th>E</th>\n",
              "      <th>Np</th>\n",
              "      <th>A</th>\n",
              "      <th>R</th>\n",
              "      <th>P</th>\n",
              "      <th>Ni</th>\n",
              "      <th>L</th>\n",
              "      <th>C</th>\n",
              "      <th>Y</th>\n",
              "      <th>Total</th>\n",
              "    </tr>\n",
              "  </thead>\n",
              "  <tbody>\n",
              "    <tr>\n",
              "      <th>0</th>\n",
              "      <td>38</td>\n",
              "      <td>29</td>\n",
              "      <td>15</td>\n",
              "      <td>9</td>\n",
              "      <td>8</td>\n",
              "      <td>5</td>\n",
              "      <td>4</td>\n",
              "      <td>4</td>\n",
              "      <td>3</td>\n",
              "      <td>2</td>\n",
              "      <td>2</td>\n",
              "      <td>1</td>\n",
              "      <td>120</td>\n",
              "    </tr>\n",
              "  </tbody>\n",
              "</table>\n",
              "</div>\n",
              "      <button class=\"colab-df-convert\" onclick=\"convertToInteractive('df-bf681dd2-156d-48eb-a9b5-b6d8e326c581')\"\n",
              "              title=\"Convert this dataframe to an interactive table.\"\n",
              "              style=\"display:none;\">\n",
              "        \n",
              "  <svg xmlns=\"http://www.w3.org/2000/svg\" height=\"24px\"viewBox=\"0 0 24 24\"\n",
              "       width=\"24px\">\n",
              "    <path d=\"M0 0h24v24H0V0z\" fill=\"none\"/>\n",
              "    <path d=\"M18.56 5.44l.94 2.06.94-2.06 2.06-.94-2.06-.94-.94-2.06-.94 2.06-2.06.94zm-11 1L8.5 8.5l.94-2.06 2.06-.94-2.06-.94L8.5 2.5l-.94 2.06-2.06.94zm10 10l.94 2.06.94-2.06 2.06-.94-2.06-.94-.94-2.06-.94 2.06-2.06.94z\"/><path d=\"M17.41 7.96l-1.37-1.37c-.4-.4-.92-.59-1.43-.59-.52 0-1.04.2-1.43.59L10.3 9.45l-7.72 7.72c-.78.78-.78 2.05 0 2.83L4 21.41c.39.39.9.59 1.41.59.51 0 1.02-.2 1.41-.59l7.78-7.78 2.81-2.81c.8-.78.8-2.07 0-2.86zM5.41 20L4 18.59l7.72-7.72 1.47 1.35L5.41 20z\"/>\n",
              "  </svg>\n",
              "      </button>\n",
              "      \n",
              "  <style>\n",
              "    .colab-df-container {\n",
              "      display:flex;\n",
              "      flex-wrap:wrap;\n",
              "      gap: 12px;\n",
              "    }\n",
              "\n",
              "    .colab-df-convert {\n",
              "      background-color: #E8F0FE;\n",
              "      border: none;\n",
              "      border-radius: 50%;\n",
              "      cursor: pointer;\n",
              "      display: none;\n",
              "      fill: #1967D2;\n",
              "      height: 32px;\n",
              "      padding: 0 0 0 0;\n",
              "      width: 32px;\n",
              "    }\n",
              "\n",
              "    .colab-df-convert:hover {\n",
              "      background-color: #E2EBFA;\n",
              "      box-shadow: 0px 1px 2px rgba(60, 64, 67, 0.3), 0px 1px 3px 1px rgba(60, 64, 67, 0.15);\n",
              "      fill: #174EA6;\n",
              "    }\n",
              "\n",
              "    [theme=dark] .colab-df-convert {\n",
              "      background-color: #3B4455;\n",
              "      fill: #D2E3FC;\n",
              "    }\n",
              "\n",
              "    [theme=dark] .colab-df-convert:hover {\n",
              "      background-color: #434B5C;\n",
              "      box-shadow: 0px 1px 3px 1px rgba(0, 0, 0, 0.15);\n",
              "      filter: drop-shadow(0px 1px 2px rgba(0, 0, 0, 0.3));\n",
              "      fill: #FFFFFF;\n",
              "    }\n",
              "  </style>\n",
              "\n",
              "      <script>\n",
              "        const buttonEl =\n",
              "          document.querySelector('#df-bf681dd2-156d-48eb-a9b5-b6d8e326c581 button.colab-df-convert');\n",
              "        buttonEl.style.display =\n",
              "          google.colab.kernel.accessAllowed ? 'block' : 'none';\n",
              "\n",
              "        async function convertToInteractive(key) {\n",
              "          const element = document.querySelector('#df-bf681dd2-156d-48eb-a9b5-b6d8e326c581');\n",
              "          const dataTable =\n",
              "            await google.colab.kernel.invokeFunction('convertToInteractive',\n",
              "                                                     [key], {});\n",
              "          if (!dataTable) return;\n",
              "\n",
              "          const docLinkHtml = 'Like what you see? Visit the ' +\n",
              "            '<a target=\"_blank\" href=https://colab.research.google.com/notebooks/data_table.ipynb>data table notebook</a>'\n",
              "            + ' to learn more about interactive tables.';\n",
              "          element.innerHTML = '';\n",
              "          dataTable['output_type'] = 'display_data';\n",
              "          await google.colab.output.renderOutput(dataTable, element);\n",
              "          const docLink = document.createElement('div');\n",
              "          docLink.innerHTML = docLinkHtml;\n",
              "          element.appendChild(docLink);\n",
              "        }\n",
              "      </script>\n",
              "    </div>\n",
              "  </div>\n",
              "  "
            ]
          },
          "metadata": {},
          "execution_count": 44
        },
        {
          "output_type": "display_data",
          "data": {
            "text/plain": [
              "<Figure size 1080x360 with 1 Axes>"
            ],
            "image/png": "[encoded data removed]"
          },
          "metadata": {
            "needs_background": "light"
          }
        }
      ]
    },
    {
      "cell_type": "markdown",
      "source": [
        "# **5. Hidden Markov Model**\n"
      ],
      "metadata": {
        "id": "QP9ku5eoeZ7Z"
      }
    },
    {
      "cell_type": "markdown",
      "source": [
        "## **Tạo từ điển**"
      ],
      "metadata": {
        "id": "_wMCyYd52zhl"
      }
    },
    {
      "cell_type": "code",
      "source": [
        "def seperate_word_tag(word_tag, vocabs_dict): \n",
        "    if not word_tag.split():\n",
        "        word = '--n--'\n",
        "        tag = '--s--'\n",
        "    else:\n",
        "        word, tag = word_tag.split()\n",
        "        if word not in vocabs_dict: word = '--unk--'\n",
        "    return word, tag"
      ],
      "metadata": {
        "id": "859S0oOQ5xJE"
      },
      "execution_count": null,
      "outputs": []
    },
    {
      "cell_type": "code",
      "source": [
        "def create_dictionaries(train_gold, vocab):\n",
        "    emission_counts = defaultdict(int)\n",
        "    transition_counts = defaultdict(int)\n",
        "    tag_counts = defaultdict(int)\n",
        "    \n",
        "    prev_tag = '--s--' \n",
        "    for word_tag in train_gold:\n",
        "        word, tag = seperate_word_tag(word_tag, vocab) \n",
        "        \n",
        "        transition_counts[(prev_tag, tag)] += 1\n",
        "        emission_counts[(tag, word)] += 1\n",
        "        tag_counts[tag] += 1\n",
        "        prev_tag = tag\n",
        "    return transition_counts, emission_counts, tag_counts"
      ],
      "metadata": {
        "id": "znqH8J6l5x8Y"
      },
      "execution_count": null,
      "outputs": []
    },
    {
      "cell_type": "code",
      "source": [
        "transition_counts, emission_counts, tag_counts = create_dictionaries(train_gold, vocabs_dict)\n",
        "states = sorted(tag_counts.keys())\n",
        "print('Số nhãn:', len(states))\n",
        "print(states)"
      ],
      "metadata": {
        "colab": {
          "base_uri": "https://localhost:8080/"
        },
        "id": "ukt28KFx54Cw",
        "outputId": "4f5b7760-fc95-4b1b-8158-d5c84e0f1df6"
      },
      "execution_count": null,
      "outputs": [
        {
          "output_type": "stream",
          "name": "stdout",
          "text": [
            "Số nhãn: 20\n",
            "['--s--', 'A', 'C', 'CH', 'Cc', 'E', 'L', 'M', 'N', 'Nc', 'Ni', 'Np', 'Nu', 'Ny', 'P', 'R', 'T', 'V', 'X', 'Y']\n"
          ]
        }
      ]
    },
    {
      "cell_type": "code",
      "source": [
        "print(\"Transition counts examples: \")\n",
        "for example in list(transition_counts.items())[:5]:\n",
        "    print(example)"
      ],
      "metadata": {
        "colab": {
          "base_uri": "https://localhost:8080/"
        },
        "id": "isVaCtEi57yp",
        "outputId": "c9a5bc62-6454-4954-985c-b57a1b16cc47"
      },
      "execution_count": null,
      "outputs": [
        {
          "output_type": "stream",
          "name": "stdout",
          "text": [
            "Transition counts examples: \n",
            "(('--s--', 'E'), 4)\n",
            "(('E', 'A'), 3)\n",
            "(('A', 'M'), 4)\n",
            "(('M', 'N'), 8)\n",
            "(('N', 'X'), 2)\n"
          ]
        }
      ]
    },
    {
      "cell_type": "code",
      "source": [
        "print(\"Emission counts examples: \")\n",
        "for example in list(emission_counts.items())[:5]:\n",
        "    print (example)"
      ],
      "metadata": {
        "colab": {
          "base_uri": "https://localhost:8080/"
        },
        "id": "tNREgztw58Mr",
        "outputId": "a7e19ec5-1bfd-4e0d-b3b4-d28a6152d389"
      },
      "execution_count": null,
      "outputs": [
        {
          "output_type": "stream",
          "name": "stdout",
          "text": [
            "Emission counts examples: \n",
            "(('E', 'Trong'), 2)\n",
            "(('A', 'hơn'), 3)\n",
            "(('M', '1.500'), 1)\n",
            "(('N', '--unk--'), 13)\n",
            "(('X', 'ngoài_trời'), 1)\n"
          ]
        }
      ]
    },
    {
      "cell_type": "code",
      "source": [
        "print(\"Tag counts examples: \")\n",
        "for example in list(tag_counts.items())[:5]:\n",
        "    print (example)"
      ],
      "metadata": {
        "colab": {
          "base_uri": "https://localhost:8080/"
        },
        "id": "hNjgsXaVNxA_",
        "outputId": "a96209ed-c3e0-4268-ee5f-c6ce9dafddd6"
      },
      "execution_count": null,
      "outputs": [
        {
          "output_type": "stream",
          "name": "stdout",
          "text": [
            "Tag counts examples: \n",
            "('E', 42)\n",
            "('A', 41)\n",
            "('M', 14)\n",
            "('N', 195)\n",
            "('X', 5)\n"
          ]
        }
      ]
    },
    {
      "cell_type": "markdown",
      "source": [
        "## **Parts of Speech Tagging**"
      ],
      "metadata": {
        "id": "qQFmHSS7263g"
      }
    },
    {
      "cell_type": "code",
      "source": [
        "# TEST\n",
        "def predict_pos(words, gold, emission_counts, vocabs_dict, states):\n",
        "    num_correct = 0\n",
        "    all_words = set(emission_counts.keys())\n",
        "    \n",
        "    for word, gold_tuple in zip(words, gold): \n",
        "        gold_tuple_list = gold_tuple.split()\n",
        "        if len(gold_tuple_list) != 2: continue\n",
        "        else: true_label = gold_tuple_list[1]\n",
        "    \n",
        "        count_final = 0\n",
        "        pos_final = ''\n",
        "        if word not in vocabs_dict: continue\n",
        "        \n",
        "        for pos in states:\n",
        "            if (pos, word) not in emission_counts: continue\n",
        "            count = emission_counts[(pos, word)]\n",
        "            \n",
        "            if count > count_final:\n",
        "                count_final = count\n",
        "                pos_final = pos\n",
        "                    \n",
        "        if pos_final == true_label: num_correct += 1\n",
        "    accuracy = num_correct / len(gold)\n",
        "    return accuracy"
      ],
      "metadata": {
        "id": "auHukq0D73kU"
      },
      "execution_count": null,
      "outputs": []
    },
    {
      "cell_type": "code",
      "source": [
        "# TEST\n",
        "accuracy = predict_pos(train_words, train_gold, emission_counts, vocabs_dict, states)\n",
        "print('Độ chính xác trên tập train:', accuracy)"
      ],
      "metadata": {
        "colab": {
          "base_uri": "https://localhost:8080/"
        },
        "id": "OXWu81Sh75yT",
        "outputId": "b62873ab-e6e8-4a74-def4-3f964e096c2f"
      },
      "execution_count": null,
      "outputs": [
        {
          "output_type": "stream",
          "name": "stdout",
          "text": [
            "Độ chính xác trên tập train: 0.8986384266263238\n"
          ]
        }
      ]
    },
    {
      "cell_type": "code",
      "source": [
        "# TEST\n",
        "accuracy = predict_pos(test_words, test_gold, emission_counts, vocabs_dict, states)\n",
        "print('Độ chính xác trên tập test:', accuracy)"
      ],
      "metadata": {
        "colab": {
          "base_uri": "https://localhost:8080/"
        },
        "id": "eb1S9Cqp77vE",
        "outputId": "19bc1fe4-526c-4d43-8ea4-438aa513f02e"
      },
      "execution_count": null,
      "outputs": [
        {
          "output_type": "stream",
          "name": "stdout",
          "text": [
            "Độ chính xác trên tập test: 0.3712121212121212\n"
          ]
        }
      ]
    },
    {
      "cell_type": "markdown",
      "source": [
        "##**Ma trận chuyển tiếp A**"
      ],
      "metadata": {
        "id": "-PoUSXb75SVe"
      }
    },
    {
      "cell_type": "code",
      "source": [
        "def create_transition_matrix(alpha, tag_counts, transition_counts):\n",
        "    all_tags = sorted(tag_counts.keys())\n",
        "    num_tags = len(all_tags)\n",
        "    \n",
        "    A = np.zeros((num_tags, num_tags))\n",
        "    trans_keys = set(transition_counts.keys())\n",
        "    \n",
        "    for i in range(num_tags):\n",
        "        for j in range(num_tags):\n",
        "            count = 0\n",
        "            key = (all_tags[i], all_tags[j])\n",
        "            if key in transition_counts: count = transition_counts[key]\n",
        "                \n",
        "            count_prev_tag = tag_counts[all_tags[i]]\n",
        "            A[i, j] = (count + alpha) / (count_prev_tag + alpha * num_tags)\n",
        "    return A"
      ],
      "metadata": {
        "id": "sNV451n05PN7"
      },
      "execution_count": null,
      "outputs": []
    },
    {
      "cell_type": "code",
      "source": [
        "alpha = 0.001\n",
        "for i in range(len(states)): tag_counts.pop(i, None)\n",
        "    \n",
        "A = create_transition_matrix(alpha, tag_counts, transition_counts)\n",
        "df = pd.DataFrame(\n",
        "    A[:5, :10], \n",
        "    index = states[:5], \n",
        "    columns = states[:10]\n",
        ")\n",
        "df.head()"
      ],
      "metadata": {
        "colab": {
          "base_uri": "https://localhost:8080/",
          "height": 206
        },
        "id": "NWWZIr525nc5",
        "outputId": "66d3c288-0762-4c63-c141-2adaf219388b"
      },
      "execution_count": null,
      "outputs": [
        {
          "output_type": "execute_result",
          "data": {
            "text/plain": [
              "          --s--         A         C        CH        Cc         E         L  \\\n",
              "--s--  0.000021  0.106359  0.000021  0.000021  0.000021  0.085091  0.085091   \n",
              "A      0.000024  0.097538  0.048781  0.219430  0.000024  0.121916  0.048781   \n",
              "C      0.000199  0.199402  0.000199  0.000199  0.000199  0.000199  0.000199   \n",
              "CH     0.626513  0.013343  0.000013  0.013343  0.000013  0.000013  0.000013   \n",
              "Cc     0.000166  0.000166  0.000166  0.000166  0.000166  0.000166  0.000166   \n",
              "\n",
              "              M         N        Nc  \n",
              "--s--  0.000021  0.446640  0.021289  \n",
              "A      0.097538  0.170673  0.000024  \n",
              "C      0.000199  0.000199  0.000199  \n",
              "CH     0.000013  0.266609  0.000013  \n",
              "Cc     0.000166  0.996844  0.000166  "
            ],
            "text/html": [
              "\n",
              "  <div id=\"df-428866e2-eea4-4bdc-af4f-265548229e0b\">\n",
              "    <div class=\"colab-df-container\">\n",
              "      <div>\n",
              "<style scoped>\n",
              "    .dataframe tbody tr th:only-of-type {\n",
              "        vertical-align: middle;\n",
              "    }\n",
              "\n",
              "    .dataframe tbody tr th {\n",
              "        vertical-align: top;\n",
              "    }\n",
              "\n",
              "    .dataframe thead th {\n",
              "        text-align: right;\n",
              "    }\n",
              "</style>\n",
              "<table border=\"1\" class=\"dataframe\">\n",
              "  <thead>\n",
              "    <tr style=\"text-align: right;\">\n",
              "      <th></th>\n",
              "      <th>--s--</th>\n",
              "      <th>A</th>\n",
              "      <th>C</th>\n",
              "      <th>CH</th>\n",
              "      <th>Cc</th>\n",
              "      <th>E</th>\n",
              "      <th>L</th>\n",
              "      <th>M</th>\n",
              "      <th>N</th>\n",
              "      <th>Nc</th>\n",
              "    </tr>\n",
              "  </thead>\n",
              "  <tbody>\n",
              "    <tr>\n",
              "      <th>--s--</th>\n",
              "      <td>0.000021</td>\n",
              "      <td>0.106359</td>\n",
              "      <td>0.000021</td>\n",
              "      <td>0.000021</td>\n",
              "      <td>0.000021</td>\n",
              "      <td>0.085091</td>\n",
              "      <td>0.085091</td>\n",
              "      <td>0.000021</td>\n",
              "      <td>0.446640</td>\n",
              "      <td>0.021289</td>\n",
              "    </tr>\n",
              "    <tr>\n",
              "      <th>A</th>\n",
              "      <td>0.000024</td>\n",
              "      <td>0.097538</td>\n",
              "      <td>0.048781</td>\n",
              "      <td>0.219430</td>\n",
              "      <td>0.000024</td>\n",
              "      <td>0.121916</td>\n",
              "      <td>0.048781</td>\n",
              "      <td>0.097538</td>\n",
              "      <td>0.170673</td>\n",
              "      <td>0.000024</td>\n",
              "    </tr>\n",
              "    <tr>\n",
              "      <th>C</th>\n",
              "      <td>0.000199</td>\n",
              "      <td>0.199402</td>\n",
              "      <td>0.000199</td>\n",
              "      <td>0.000199</td>\n",
              "      <td>0.000199</td>\n",
              "      <td>0.000199</td>\n",
              "      <td>0.000199</td>\n",
              "      <td>0.000199</td>\n",
              "      <td>0.000199</td>\n",
              "      <td>0.000199</td>\n",
              "    </tr>\n",
              "    <tr>\n",
              "      <th>CH</th>\n",
              "      <td>0.626513</td>\n",
              "      <td>0.013343</td>\n",
              "      <td>0.000013</td>\n",
              "      <td>0.013343</td>\n",
              "      <td>0.000013</td>\n",
              "      <td>0.000013</td>\n",
              "      <td>0.000013</td>\n",
              "      <td>0.000013</td>\n",
              "      <td>0.266609</td>\n",
              "      <td>0.000013</td>\n",
              "    </tr>\n",
              "    <tr>\n",
              "      <th>Cc</th>\n",
              "      <td>0.000166</td>\n",
              "      <td>0.000166</td>\n",
              "      <td>0.000166</td>\n",
              "      <td>0.000166</td>\n",
              "      <td>0.000166</td>\n",
              "      <td>0.000166</td>\n",
              "      <td>0.000166</td>\n",
              "      <td>0.000166</td>\n",
              "      <td>0.996844</td>\n",
              "      <td>0.000166</td>\n",
              "    </tr>\n",
              "  </tbody>\n",
              "</table>\n",
              "</div>\n",
              "      <button class=\"colab-df-convert\" onclick=\"convertToInteractive('df-428866e2-eea4-4bdc-af4f-265548229e0b')\"\n",
              "              title=\"Convert this dataframe to an interactive table.\"\n",
              "              style=\"display:none;\">\n",
              "        \n",
              "  <svg xmlns=\"http://www.w3.org/2000/svg\" height=\"24px\"viewBox=\"0 0 24 24\"\n",
              "       width=\"24px\">\n",
              "    <path d=\"M0 0h24v24H0V0z\" fill=\"none\"/>\n",
              "    <path d=\"M18.56 5.44l.94 2.06.94-2.06 2.06-.94-2.06-.94-.94-2.06-.94 2.06-2.06.94zm-11 1L8.5 8.5l.94-2.06 2.06-.94-2.06-.94L8.5 2.5l-.94 2.06-2.06.94zm10 10l.94 2.06.94-2.06 2.06-.94-2.06-.94-.94-2.06-.94 2.06-2.06.94z\"/><path d=\"M17.41 7.96l-1.37-1.37c-.4-.4-.92-.59-1.43-.59-.52 0-1.04.2-1.43.59L10.3 9.45l-7.72 7.72c-.78.78-.78 2.05 0 2.83L4 21.41c.39.39.9.59 1.41.59.51 0 1.02-.2 1.41-.59l7.78-7.78 2.81-2.81c.8-.78.8-2.07 0-2.86zM5.41 20L4 18.59l7.72-7.72 1.47 1.35L5.41 20z\"/>\n",
              "  </svg>\n",
              "      </button>\n",
              "      \n",
              "  <style>\n",
              "    .colab-df-container {\n",
              "      display:flex;\n",
              "      flex-wrap:wrap;\n",
              "      gap: 12px;\n",
              "    }\n",
              "\n",
              "    .colab-df-convert {\n",
              "      background-color: #E8F0FE;\n",
              "      border: none;\n",
              "      border-radius: 50%;\n",
              "      cursor: pointer;\n",
              "      display: none;\n",
              "      fill: #1967D2;\n",
              "      height: 32px;\n",
              "      padding: 0 0 0 0;\n",
              "      width: 32px;\n",
              "    }\n",
              "\n",
              "    .colab-df-convert:hover {\n",
              "      background-color: #E2EBFA;\n",
              "      box-shadow: 0px 1px 2px rgba(60, 64, 67, 0.3), 0px 1px 3px 1px rgba(60, 64, 67, 0.15);\n",
              "      fill: #174EA6;\n",
              "    }\n",
              "\n",
              "    [theme=dark] .colab-df-convert {\n",
              "      background-color: #3B4455;\n",
              "      fill: #D2E3FC;\n",
              "    }\n",
              "\n",
              "    [theme=dark] .colab-df-convert:hover {\n",
              "      background-color: #434B5C;\n",
              "      box-shadow: 0px 1px 3px 1px rgba(0, 0, 0, 0.15);\n",
              "      filter: drop-shadow(0px 1px 2px rgba(0, 0, 0, 0.3));\n",
              "      fill: #FFFFFF;\n",
              "    }\n",
              "  </style>\n",
              "\n",
              "      <script>\n",
              "        const buttonEl =\n",
              "          document.querySelector('#df-428866e2-eea4-4bdc-af4f-265548229e0b button.colab-df-convert');\n",
              "        buttonEl.style.display =\n",
              "          google.colab.kernel.accessAllowed ? 'block' : 'none';\n",
              "\n",
              "        async function convertToInteractive(key) {\n",
              "          const element = document.querySelector('#df-428866e2-eea4-4bdc-af4f-265548229e0b');\n",
              "          const dataTable =\n",
              "            await google.colab.kernel.invokeFunction('convertToInteractive',\n",
              "                                                     [key], {});\n",
              "          if (!dataTable) return;\n",
              "\n",
              "          const docLinkHtml = 'Like what you see? Visit the ' +\n",
              "            '<a target=\"_blank\" href=https://colab.research.google.com/notebooks/data_table.ipynb>data table notebook</a>'\n",
              "            + ' to learn more about interactive tables.';\n",
              "          element.innerHTML = '';\n",
              "          dataTable['output_type'] = 'display_data';\n",
              "          await google.colab.output.renderOutput(dataTable, element);\n",
              "          const docLink = document.createElement('div');\n",
              "          docLink.innerHTML = docLinkHtml;\n",
              "          element.appendChild(docLink);\n",
              "        }\n",
              "      </script>\n",
              "    </div>\n",
              "  </div>\n",
              "  "
            ]
          },
          "metadata": {},
          "execution_count": 55
        }
      ]
    },
    {
      "cell_type": "markdown",
      "source": [
        "##**Ma trận phát xạ B**"
      ],
      "metadata": {
        "id": "BzQ-sOG_5Vt6"
      }
    },
    {
      "cell_type": "code",
      "source": [
        "def create_emission_matrix(alpha, tag_counts, emission_counts, vocabs):\n",
        "    all_tags = sorted(tag_counts.keys())\n",
        "    num_tags = len(tag_counts)\n",
        "    num_words = len(vocabs)\n",
        "    \n",
        "    B = np.zeros((num_tags, num_words))\n",
        "    emis_keys = set(list(emission_counts.keys()))\n",
        "    \n",
        "    for i in range(num_tags):\n",
        "        for j in range(num_words):\n",
        "            count = 0\n",
        "            key = (all_tags[i], vocabs[j])\n",
        "            if key in emission_counts.keys(): count = emission_counts[key]\n",
        "                \n",
        "            count_tag = tag_counts[all_tags[i]]\n",
        "            B[i, j] = (count + alpha) / (count_tag + alpha * num_words)\n",
        "    return B"
      ],
      "metadata": {
        "id": "dVSrVyVR6Uu3"
      },
      "execution_count": null,
      "outputs": []
    },
    {
      "cell_type": "code",
      "source": [
        "cidx  = ['Công_nghệ_thông_tin', 'là', 'lĩnh_vực', 'có', 'tiềm_năng', 'phát_triển']\n",
        "rvals = ['P', 'N', 'V', 'CH', 'Cc', 'E', 'L',]\n",
        "cols = [vocabs_dict[word] for word in cidx]\n",
        "rows = [states.index(tag) for tag in rvals]\n",
        "\n",
        "for i in range(len(states)): tag_counts.pop(i, None)\n",
        "B = create_emission_matrix(alpha, tag_counts, emission_counts, list(vocabs_dict))\n",
        "\n",
        "df = pd.DataFrame(B[np.ix_(rows, cols)], index=rvals, columns=cidx)\n",
        "df.head()"
      ],
      "metadata": {
        "colab": {
          "base_uri": "https://localhost:8080/",
          "height": 206
        },
        "id": "u79oh8oX6ZVk",
        "outputId": "63fffaa5-772c-4027-e2e0-bbce3682db63"
      },
      "execution_count": null,
      "outputs": [
        {
          "output_type": "execute_result",
          "data": {
            "text/plain": [
              "    Công_nghệ_thông_tin        là  lĩnh_vực        có  tiềm_năng  phát_triển\n",
              "P              0.000014  0.000014  0.000014  0.000014   0.000014    0.000014\n",
              "N              0.004006  0.000004  0.012011  0.000004   0.004006    0.000004\n",
              "V              0.000006  0.055606  0.000006  0.027806   0.000006    0.011126\n",
              "CH             0.000008  0.000008  0.000008  0.000008   0.000008    0.000008\n",
              "Cc             0.000016  0.000016  0.000016  0.000016   0.000016    0.000016"
            ],
            "text/html": [
              "\n",
              "  <div id=\"df-5dc0de40-bbfb-4540-bb27-587ad8dff9b1\">\n",
              "    <div class=\"colab-df-container\">\n",
              "      <div>\n",
              "<style scoped>\n",
              "    .dataframe tbody tr th:only-of-type {\n",
              "        vertical-align: middle;\n",
              "    }\n",
              "\n",
              "    .dataframe tbody tr th {\n",
              "        vertical-align: top;\n",
              "    }\n",
              "\n",
              "    .dataframe thead th {\n",
              "        text-align: right;\n",
              "    }\n",
              "</style>\n",
              "<table border=\"1\" class=\"dataframe\">\n",
              "  <thead>\n",
              "    <tr style=\"text-align: right;\">\n",
              "      <th></th>\n",
              "      <th>Công_nghệ_thông_tin</th>\n",
              "      <th>là</th>\n",
              "      <th>lĩnh_vực</th>\n",
              "      <th>có</th>\n",
              "      <th>tiềm_năng</th>\n",
              "      <th>phát_triển</th>\n",
              "    </tr>\n",
              "  </thead>\n",
              "  <tbody>\n",
              "    <tr>\n",
              "      <th>P</th>\n",
              "      <td>0.000014</td>\n",
              "      <td>0.000014</td>\n",
              "      <td>0.000014</td>\n",
              "      <td>0.000014</td>\n",
              "      <td>0.000014</td>\n",
              "      <td>0.000014</td>\n",
              "    </tr>\n",
              "    <tr>\n",
              "      <th>N</th>\n",
              "      <td>0.004006</td>\n",
              "      <td>0.000004</td>\n",
              "      <td>0.012011</td>\n",
              "      <td>0.000004</td>\n",
              "      <td>0.004006</td>\n",
              "      <td>0.000004</td>\n",
              "    </tr>\n",
              "    <tr>\n",
              "      <th>V</th>\n",
              "      <td>0.000006</td>\n",
              "      <td>0.055606</td>\n",
              "      <td>0.000006</td>\n",
              "      <td>0.027806</td>\n",
              "      <td>0.000006</td>\n",
              "      <td>0.011126</td>\n",
              "    </tr>\n",
              "    <tr>\n",
              "      <th>CH</th>\n",
              "      <td>0.000008</td>\n",
              "      <td>0.000008</td>\n",
              "      <td>0.000008</td>\n",
              "      <td>0.000008</td>\n",
              "      <td>0.000008</td>\n",
              "      <td>0.000008</td>\n",
              "    </tr>\n",
              "    <tr>\n",
              "      <th>Cc</th>\n",
              "      <td>0.000016</td>\n",
              "      <td>0.000016</td>\n",
              "      <td>0.000016</td>\n",
              "      <td>0.000016</td>\n",
              "      <td>0.000016</td>\n",
              "      <td>0.000016</td>\n",
              "    </tr>\n",
              "  </tbody>\n",
              "</table>\n",
              "</div>\n",
              "      <button class=\"colab-df-convert\" onclick=\"convertToInteractive('df-5dc0de40-bbfb-4540-bb27-587ad8dff9b1')\"\n",
              "              title=\"Convert this dataframe to an interactive table.\"\n",
              "              style=\"display:none;\">\n",
              "        \n",
              "  <svg xmlns=\"http://www.w3.org/2000/svg\" height=\"24px\"viewBox=\"0 0 24 24\"\n",
              "       width=\"24px\">\n",
              "    <path d=\"M0 0h24v24H0V0z\" fill=\"none\"/>\n",
              "    <path d=\"M18.56 5.44l.94 2.06.94-2.06 2.06-.94-2.06-.94-.94-2.06-.94 2.06-2.06.94zm-11 1L8.5 8.5l.94-2.06 2.06-.94-2.06-.94L8.5 2.5l-.94 2.06-2.06.94zm10 10l.94 2.06.94-2.06 2.06-.94-2.06-.94-.94-2.06-.94 2.06-2.06.94z\"/><path d=\"M17.41 7.96l-1.37-1.37c-.4-.4-.92-.59-1.43-.59-.52 0-1.04.2-1.43.59L10.3 9.45l-7.72 7.72c-.78.78-.78 2.05 0 2.83L4 21.41c.39.39.9.59 1.41.59.51 0 1.02-.2 1.41-.59l7.78-7.78 2.81-2.81c.8-.78.8-2.07 0-2.86zM5.41 20L4 18.59l7.72-7.72 1.47 1.35L5.41 20z\"/>\n",
              "  </svg>\n",
              "      </button>\n",
              "      \n",
              "  <style>\n",
              "    .colab-df-container {\n",
              "      display:flex;\n",
              "      flex-wrap:wrap;\n",
              "      gap: 12px;\n",
              "    }\n",
              "\n",
              "    .colab-df-convert {\n",
              "      background-color: #E8F0FE;\n",
              "      border: none;\n",
              "      border-radius: 50%;\n",
              "      cursor: pointer;\n",
              "      display: none;\n",
              "      fill: #1967D2;\n",
              "      height: 32px;\n",
              "      padding: 0 0 0 0;\n",
              "      width: 32px;\n",
              "    }\n",
              "\n",
              "    .colab-df-convert:hover {\n",
              "      background-color: #E2EBFA;\n",
              "      box-shadow: 0px 1px 2px rgba(60, 64, 67, 0.3), 0px 1px 3px 1px rgba(60, 64, 67, 0.15);\n",
              "      fill: #174EA6;\n",
              "    }\n",
              "\n",
              "    [theme=dark] .colab-df-convert {\n",
              "      background-color: #3B4455;\n",
              "      fill: #D2E3FC;\n",
              "    }\n",
              "\n",
              "    [theme=dark] .colab-df-convert:hover {\n",
              "      background-color: #434B5C;\n",
              "      box-shadow: 0px 1px 3px 1px rgba(0, 0, 0, 0.15);\n",
              "      filter: drop-shadow(0px 1px 2px rgba(0, 0, 0, 0.3));\n",
              "      fill: #FFFFFF;\n",
              "    }\n",
              "  </style>\n",
              "\n",
              "      <script>\n",
              "        const buttonEl =\n",
              "          document.querySelector('#df-5dc0de40-bbfb-4540-bb27-587ad8dff9b1 button.colab-df-convert');\n",
              "        buttonEl.style.display =\n",
              "          google.colab.kernel.accessAllowed ? 'block' : 'none';\n",
              "\n",
              "        async function convertToInteractive(key) {\n",
              "          const element = document.querySelector('#df-5dc0de40-bbfb-4540-bb27-587ad8dff9b1');\n",
              "          const dataTable =\n",
              "            await google.colab.kernel.invokeFunction('convertToInteractive',\n",
              "                                                     [key], {});\n",
              "          if (!dataTable) return;\n",
              "\n",
              "          const docLinkHtml = 'Like what you see? Visit the ' +\n",
              "            '<a target=\"_blank\" href=https://colab.research.google.com/notebooks/data_table.ipynb>data table notebook</a>'\n",
              "            + ' to learn more about interactive tables.';\n",
              "          element.innerHTML = '';\n",
              "          dataTable['output_type'] = 'display_data';\n",
              "          await google.colab.output.renderOutput(dataTable, element);\n",
              "          const docLink = document.createElement('div');\n",
              "          docLink.innerHTML = docLinkHtml;\n",
              "          element.appendChild(docLink);\n",
              "        }\n",
              "      </script>\n",
              "    </div>\n",
              "  </div>\n",
              "  "
            ]
          },
          "metadata": {},
          "execution_count": 57
        }
      ]
    },
    {
      "cell_type": "code",
      "source": [],
      "metadata": {
        "id": "SDm51xX062MA"
      },
      "execution_count": null,
      "outputs": []
    },
    {
      "cell_type": "markdown",
      "source": [
        "# **6. Thuật toán Viterbi**"
      ],
      "metadata": {
        "id": "LcNsCVl78lLR"
      }
    },
    {
      "cell_type": "code",
      "source": [
        "A = np.array([sublist[1:].tolist() for sublist in A])\n",
        "B = B[1:]"
      ],
      "metadata": {
        "id": "I-is3WdA8puk"
      },
      "execution_count": null,
      "outputs": []
    },
    {
      "cell_type": "markdown",
      "source": [
        "## Initialize"
      ],
      "metadata": {
        "id": "iCcEPweMZg8n"
      }
    },
    {
      "cell_type": "code",
      "source": [
        "def viterbi_initialize(states, tag_counts, A, B, corpus, vocabs_dict):\n",
        "    num_tags = len(tag_counts)\n",
        "    s_idx = states.index('--s--')\n",
        "    \n",
        "    best_probs = np.zeros((num_tags, len(corpus)))\n",
        "    best_paths = np.zeros((num_tags, len(corpus)), dtype=int)\n",
        "    \n",
        "    for i in range(num_tags):\n",
        "        if A[s_idx, i - 1] == 0: best_probs[i, 0] = float('-inf')\n",
        "        else: \n",
        "            index = vocabs_dict[corpus[0]]\n",
        "            # best_probs[i, 0] = math.log(A[s_idx, i]) + math.log(B[i, index])\n",
        "            best_probs[i, 0] = math.log(A[s_idx, i - 1]) + math.log(B[i - 1, index])\n",
        "    return best_probs, best_paths"
      ],
      "metadata": {
        "id": "Ajea_y-G8rnj"
      },
      "execution_count": null,
      "outputs": []
    },
    {
      "cell_type": "code",
      "source": [
        "best_probs_train, best_paths_train = viterbi_initialize(states, tag_counts, A, B, train_words, vocabs_dict)\n",
        "print('best_probs_train[0, 0]:', best_probs_train[0, 0])\n",
        "print(best_probs_train.shape)\n",
        "print('best_paths_train[2, 3]:', best_paths_train[2, 3])\n",
        "print(best_paths_train.shape)\n",
        "print('best_probs_train')\n",
        "print(best_probs_train)\n",
        "print('best_paths_train')\n",
        "print(best_paths_train)"
      ],
      "metadata": {
        "colab": {
          "base_uri": "https://localhost:8080/"
        },
        "id": "t24mDFi98t3w",
        "outputId": "3bae0069-74d3-45c2-fa1f-d657eebc3c28"
      },
      "execution_count": null,
      "outputs": [
        {
          "output_type": "stream",
          "name": "stdout",
          "text": [
            "best_probs_train[0, 0]: -21.70657017939562\n",
            "(20, 661)\n",
            "best_paths_train[2, 3]: 0\n",
            "(20, 661)\n",
            "best_probs_train\n",
            "[[-21.70657018   0.           0.         ...   0.           0.\n",
            "    0.        ]\n",
            " [-13.71151663   0.           0.         ...   0.           0.\n",
            "    0.        ]\n",
            " [-21.75799186   0.           0.         ...   0.           0.\n",
            "    0.        ]\n",
            " ...\n",
            " [-15.94947423   0.           0.         ...   0.           0.\n",
            "    0.        ]\n",
            " [-14.84923709   0.           0.         ...   0.           0.\n",
            "    0.        ]\n",
            " [-21.70657018   0.           0.         ...   0.           0.\n",
            "    0.        ]]\n",
            "best_paths_train\n",
            "[[0 0 0 ... 0 0 0]\n",
            " [0 0 0 ... 0 0 0]\n",
            " [0 0 0 ... 0 0 0]\n",
            " ...\n",
            " [0 0 0 ... 0 0 0]\n",
            " [0 0 0 ... 0 0 0]\n",
            " [0 0 0 ... 0 0 0]]\n"
          ]
        }
      ]
    },
    {
      "cell_type": "code",
      "source": [
        "best_probs_test, best_paths_test = viterbi_initialize(states, tag_counts, A, B, test_words, vocabs_dict)\n",
        "print('best_probs_test[0, 0]:', best_probs_test[0, 0]) \n",
        "print('best_paths_test[2, 3]:', best_paths_test[2, 3])\n",
        "print(best_probs_test.shape)\n",
        "print('best_probs_test')\n",
        "print(best_probs_test)\n",
        "print('best_paths_test')\n",
        "print(best_paths_test)"
      ],
      "metadata": {
        "colab": {
          "base_uri": "https://localhost:8080/"
        },
        "id": "exTy4sj-8vfW",
        "outputId": "ca90580b-f22c-4898-bc12-a2213eefa022"
      },
      "execution_count": null,
      "outputs": [
        {
          "output_type": "stream",
          "name": "stdout",
          "text": [
            "best_probs_test[0, 0]: -14.105167844811884\n",
            "best_paths_test[2, 3]: 0\n",
            "(20, 132)\n",
            "best_probs_test\n",
            "[[-14.10516784   0.           0.         ...   0.           0.\n",
            "    0.        ]\n",
            " [ -6.80276185   0.           0.         ...   0.           0.\n",
            "    0.        ]\n",
            " [-21.75799186   0.           0.         ...   0.           0.\n",
            "    0.        ]\n",
            " ...\n",
            " [ -9.04071945   0.           0.         ...   0.           0.\n",
            "    0.        ]\n",
            " [ -7.94048231   0.           0.         ...   0.           0.\n",
            "    0.        ]\n",
            " [-14.10516784   0.           0.         ...   0.           0.\n",
            "    0.        ]]\n",
            "best_paths_test\n",
            "[[0 0 0 ... 0 0 0]\n",
            " [0 0 0 ... 0 0 0]\n",
            " [0 0 0 ... 0 0 0]\n",
            " ...\n",
            " [0 0 0 ... 0 0 0]\n",
            " [0 0 0 ... 0 0 0]\n",
            " [0 0 0 ... 0 0 0]]\n"
          ]
        }
      ]
    },
    {
      "cell_type": "markdown",
      "source": [
        "##**Forward**"
      ],
      "metadata": {
        "id": "FrT_aPHN86mD"
      }
    },
    {
      "cell_type": "code",
      "source": [
        "def viterbi_forward(A, B, corpus, best_probs, best_paths, vocabs_dict):\n",
        "    num_tags = best_probs.shape[0]\n",
        "    \n",
        "    for i in range(1, len(corpus)): \n",
        "        if i % 5000 == 0: print(f'Processed {i} words...')\n",
        "            \n",
        "        for j in range(num_tags):\n",
        "            best_prob_i = float('-inf')\n",
        "            best_path_i = None\n",
        "            \n",
        "            for k in range(num_tags):\n",
        "                index = vocabs_dict[corpus[i]]\n",
        "                # prob = best_probs[k, i - 1] + math.log(A[k, j]) + math.log(B[j, index])\n",
        "                prob = best_probs[k, i - 1] + math.log(A[k, j - 1]) + math.log(B[j - 1, index])\n",
        "\n",
        "                if prob > best_prob_i:\n",
        "                    best_prob_i = prob\n",
        "                    best_path_i = k\n",
        "                    \n",
        "            best_probs[j, i] = best_prob_i\n",
        "            best_paths[j, i] = best_path_i\n",
        "            \n",
        "    return best_probs, best_paths"
      ],
      "metadata": {
        "id": "h_U7OsH_8yH7"
      },
      "execution_count": null,
      "outputs": []
    },
    {
      "cell_type": "code",
      "source": [
        "best_probs_train, best_paths_train = viterbi_forward(A, B, train_words, best_probs_train, best_paths_train, vocabs_dict)\n",
        "print('best_probs_train[0, 1]:', best_probs_train[0, 5]) \n",
        "print('best_paths_train[0, 4]:', best_paths_train[0, 4])\n",
        "\n",
        "print('best_probs_train')\n",
        "print(best_probs_train)\n",
        "print('best_paths_train')\n",
        "print(best_paths_train)\n"
      ],
      "metadata": {
        "colab": {
          "base_uri": "https://localhost:8080/"
        },
        "id": "Zvq0WANW8z7Z",
        "outputId": "09451b9d-e938-474d-ec34-e7b31177d30d"
      },
      "execution_count": null,
      "outputs": [
        {
          "output_type": "stream",
          "name": "stdout",
          "text": [
            "best_probs_train[0, 1]: -50.66173106625405\n",
            "best_paths_train[0, 4]: 8\n",
            "best_probs_train\n",
            "[[  -21.70657018   -21.0289744    -27.10796922 ... -4170.03402047\n",
            "  -4180.07943618 -4188.35432313]\n",
            " [  -13.71151663   -12.44666711   -26.24476401 ... -4169.17081527\n",
            "  -4173.69302102 -4185.91498241]\n",
            " [  -21.75799186   -27.73159287   -26.46674335 ... -4169.3927946\n",
            "  -4180.13085786 -4187.71309726]\n",
            " ...\n",
            " [  -15.94947423   -22.18063323   -26.46870143 ... -4169.39475268\n",
            "  -4173.22439417 -4185.15806976]\n",
            " [  -14.84923709   -27.98915086   -34.06814568 ... -4176.99419694\n",
            "  -4180.13085786 -4187.2354074 ]\n",
            " [  -21.70657018   -21.0289744    -27.10796922 ... -4170.03402047\n",
            "  -4180.07943618 -4188.35432313]]\n",
            "best_paths_train\n",
            "[[0 5 1 ... 1 3 1]\n",
            " [0 5 1 ... 1 3 8]\n",
            " [0 1 1 ... 1 3 1]\n",
            " ...\n",
            " [0 5 1 ... 1 3 8]\n",
            " [0 5 1 ... 1 3 8]\n",
            " [0 5 1 ... 1 3 1]]\n"
          ]
        }
      ]
    },
    {
      "cell_type": "code",
      "source": [
        "best_probs_test, best_paths_test = viterbi_forward(A, B, test_words, best_probs_test, best_paths_test, vocabs_dict)\n",
        "print('best_probs_test[0, 1]:', best_probs_test[0, 1]) \n",
        "print('best_paths_test[0, 4]:', best_paths_test[0, 4])\n",
        "\n",
        "print('best_probs_test')\n",
        "print(best_probs_test)\n",
        "print('best_paths_test')\n",
        "print(best_paths_test)\n"
      ],
      "metadata": {
        "colab": {
          "base_uri": "https://localhost:8080/"
        },
        "id": "xeBncMQe81UV",
        "outputId": "3252a023-8670-402a-96ae-6794f96d4566"
      },
      "execution_count": null,
      "outputs": [
        {
          "output_type": "stream",
          "name": "stdout",
          "text": [
            "best_probs_test[0, 1]: -21.464063960448403\n",
            "best_paths_test[0, 4]: 3\n",
            "best_probs_test\n",
            "[[  -14.10516784   -21.46406396   -32.03717161 ... -1296.32500912\n",
            "  -1301.80208784 -1315.10774354]\n",
            " [   -6.80276185   -18.02054707   -29.79430603 ... -1287.99354046\n",
            "  -1300.44644143 -1314.19672035]\n",
            " [  -21.75799186   -17.9684332    -32.04062331 ... -1289.46767602\n",
            "  -1302.0136167  -1314.46651767]\n",
            " ...\n",
            " [   -9.04071945   -16.36155298   -29.80465196 ... -1287.39081717\n",
            "  -1300.45678736 -1313.41995974]\n",
            " [   -7.94048231   -17.9684332    -32.18869075 ... -1289.46767602\n",
            "  -1302.41788791 -1315.02683996]\n",
            " [  -14.10516784   -21.46406396   -32.03717161 ... -1296.32500912\n",
            "  -1301.80208784 -1315.10774354]]\n",
            "best_paths_test\n",
            "[[ 0  1  5 ... 17  5  1]\n",
            " [ 0  8 15 ... 17 15 15]\n",
            " [ 0 11  1 ... 17  1  1]\n",
            " ...\n",
            " [ 0 11 15 ... 17 15 11]\n",
            " [ 0 11 17 ... 17 11 11]\n",
            " [ 0  1  5 ... 17  5  1]]\n"
          ]
        }
      ]
    },
    {
      "cell_type": "markdown",
      "source": [
        "##**Backward**"
      ],
      "metadata": {
        "id": "bg5um8kP83so"
      }
    },
    {
      "cell_type": "code",
      "source": [
        "def viterbi_backward(best_probs, best_paths, corpus, states):\n",
        "    m = best_paths.shape[1] \n",
        "    z = [None] * m\n",
        "    pred = [None] * m\n",
        "    \n",
        "    best_prob_for_last_word = float('-inf')\n",
        "    num_tags = best_probs.shape[0]\n",
        "    \n",
        "    for k in range(num_tags):\n",
        "        if best_probs[k, m - 1] > best_prob_for_last_word:\n",
        "            best_prob_for_last_word = best_probs[k, m - 1]\n",
        "            z[m - 1] = k\n",
        "            \n",
        "    pred[m - 1] = states[z[m - 1]]\n",
        "    for i in range(m - 1, -1, -1):\n",
        "        z[i - 1] = best_paths[z[i], i]\n",
        "        pred[i - 1] = states[z[i - 1]]\n",
        "    return pred"
      ],
      "metadata": {
        "id": "RTiSXVY582_M"
      },
      "execution_count": null,
      "outputs": []
    },
    {
      "cell_type": "code",
      "source": [
        "train_pred = viterbi_backward(best_probs_train, best_paths_train, train_words, states)\n",
        "test_pred = viterbi_backward(best_probs_test, best_paths_test, test_words, states)\n",
        "m = len(test_pred)\n",
        "\n",
        "\n",
        "\n",
        "print('Dự đoán cho tập test:')\n",
        "print(test_words[22:30])\n",
        "print(test_pred[22:30])\n",
        "print()\n",
        "print(test_words[22:30])\n",
        "print(test_pred[22:30])"
      ],
      "metadata": {
        "colab": {
          "base_uri": "https://localhost:8080/"
        },
        "id": "JCaexhbL88cp",
        "outputId": "18599fda-7c4f-4a4e-da09-dba4050bfc21"
      },
      "execution_count": null,
      "outputs": [
        {
          "output_type": "stream",
          "name": "stdout",
          "text": [
            "Dự đoán cho tập test:\n",
            "['Nhưng', 'sự', 'thực_hiện', 'vẫn', 'còn', 'chưa', 'phù_hợp', '.']\n",
            "['V', 'N', 'V', 'R', 'V', 'R', 'A', 'CH']\n",
            "\n",
            "['Nhưng', 'sự', 'thực_hiện', 'vẫn', 'còn', 'chưa', 'phù_hợp', '.']\n",
            "['V', 'N', 'V', 'R', 'V', 'R', 'A', 'CH']\n"
          ]
        }
      ]
    },
    {
      "cell_type": "code",
      "source": [
        "for word, tag in zip(test_words, test_pred):\n",
        "    if word == '--n--': print()\n",
        "    else: print(f'{word}/{tag}', end=' ')"
      ],
      "metadata": {
        "colab": {
          "base_uri": "https://localhost:8080/"
        },
        "id": "WZ-kOXKT9BK1",
        "outputId": "5793f66a-dd80-47a7-e64d-8b4a5fb96c97"
      },
      "execution_count": null,
      "outputs": [
        {
          "output_type": "stream",
          "name": "stdout",
          "text": [
            "--unk--/Np chạy/R xăng/A ,/CH sạc/N điện/V hiện/N có/V lượng/V bình_chọn/R cao/A nhất/A phân/C khúc/R so/V với/E các/L đối_thủ/N thuần/R động_cơ_đốt_trong/A ./CH \n",
            "Nhưng/V sự/N thực_hiện/V vẫn/R còn/V chưa/R phù_hợp/A ./CH \n",
            "Những/L ngày/N đẹp_đẽ/T ấy/P ,/CH bố/N luôn/T dành/P thời_gian/V để/E vui_vẻ/Np với/E anh_em/N tôi/P ./CH \n",
            "Cổ_động_viên/Np đốt_phá/V trong/E bạo_loạn/Np ở/E --unk--/Np ./CH \n",
            "--unk--/Np tự/R làm/V --unk--/Np bằng/V ống_nhòm/E gây/L sốt/N ./CH \n",
            "--unk--/Np cấm/V nhân_viên/R chống/V dịch/N chặn/V cổng/N nhà/N dân/N ./CH \n",
            "Ukraine/V nghi/E --unk--/Np sắp/V điều/E thêm/Np quân/V từ/E --unk--/Np ./CH \n",
            "Lưới_điện/V Ukraine/R bên/A bờ/C vực/R sụp_đổ/V trước/E đòn/L tên_lửa/N --unk--/Np ./CH \n",
            "Châu_Âu/R chạy_đua/A bảo_vệ/C huyết_mạch/R năng_lượng/V dưới/E đáy/N biển/Np ./CH \n",
            "Con_mèo/V trèo/E cây/L cau/N ./CH \n",
            "Con_chuột/V trèo/E cây/L cau/N ./CH \n",
            "Con_chuột/V hỏi/E con_mèo/Np ./CH \n",
            "Con/T trèo/P là/V con/E nào/Np ./--s-- "
          ]
        }
      ]
    },
    {
      "cell_type": "markdown",
      "source": [
        "# **7. Đánh giá**"
      ],
      "metadata": {
        "id": "sbt9r9T81HNj"
      }
    },
    {
      "cell_type": "code",
      "source": [
        "from sklearn.metrics import classification_report\n",
        "def report(pred, gold):\n",
        "    y_pred = []\n",
        "    y_true = []\n",
        "\n",
        "    for prediction, word_tag in zip(pred, gold):\n",
        "        word_tag_tuple = word_tag.split()\n",
        "        if len(word_tag_tuple) != 2: continue \n",
        "\n",
        "        word, tag = word_tag_tuple\n",
        "        y_pred.append(prediction)\n",
        "        y_true.append(tag)\n",
        "        \n",
        "    print(classification_report(y_pred, y_true))\n",
        "    return y_pred, y_true"
      ],
      "metadata": {
        "id": "QKXwk2cW9MqB"
      },
      "execution_count": null,
      "outputs": []
    },
    {
      "cell_type": "markdown",
      "source": [
        "## **HMM**"
      ],
      "metadata": {
        "id": "i6TtRd4t2Qmz"
      }
    },
    {
      "cell_type": "code",
      "source": [
        "print('Kết quả của mô hình Hidden Markov kết hợp thuật toán Viterbi trên tập train:\\n')\n",
        "y_pred, y_true_train = report(train_pred, train_gold)"
      ],
      "metadata": {
        "colab": {
          "base_uri": "https://localhost:8080/"
        },
        "id": "f9O2n7vQ9PT2",
        "outputId": "8111cd00-e528-491c-b7cb-809bb9c56deb"
      },
      "execution_count": null,
      "outputs": [
        {
          "output_type": "stream",
          "name": "stdout",
          "text": [
            "Kết quả của mô hình Hidden Markov kết hợp thuật toán Viterbi trên tập train:\n",
            "\n",
            "              precision    recall  f1-score   support\n",
            "\n",
            "       --s--       0.00      0.00      0.00         1\n",
            "           A       0.98      1.00      0.99        40\n",
            "           C       1.00      1.00      1.00         5\n",
            "          CH       1.00      1.00      1.00        75\n",
            "          Cc       1.00      1.00      1.00         6\n",
            "           E       1.00      1.00      1.00        42\n",
            "           L       1.00      1.00      1.00        12\n",
            "           M       0.93      1.00      0.96        13\n",
            "           N       0.99      0.96      0.97       202\n",
            "          Nc       1.00      1.00      1.00         2\n",
            "          Ni       1.00      1.00      1.00         3\n",
            "          Np       0.88      0.90      0.89        42\n",
            "          Nu       0.00      0.00      0.00         0\n",
            "          Ny       0.00      0.00      0.00         0\n",
            "           P       1.00      1.00      1.00        17\n",
            "           R       1.00      1.00      1.00        23\n",
            "           T       1.00      1.00      1.00         2\n",
            "           V       0.99      0.99      0.99       125\n",
            "           X       0.80      1.00      0.89         4\n",
            "           Y       0.00      0.00      0.00         0\n",
            "\n",
            "    accuracy                           0.98       614\n",
            "   macro avg       0.78      0.79      0.78       614\n",
            "weighted avg       0.98      0.98      0.98       614\n",
            "\n"
          ]
        },
        {
          "output_type": "stream",
          "name": "stderr",
          "text": [
            "/usr/local/lib/python3.8/dist-packages/sklearn/metrics/_classification.py:1318: UndefinedMetricWarning: Precision and F-score are ill-defined and being set to 0.0 in labels with no predicted samples. Use `zero_division` parameter to control this behavior.\n",
            "  _warn_prf(average, modifier, msg_start, len(result))\n",
            "/usr/local/lib/python3.8/dist-packages/sklearn/metrics/_classification.py:1318: UndefinedMetricWarning: Recall and F-score are ill-defined and being set to 0.0 in labels with no true samples. Use `zero_division` parameter to control this behavior.\n",
            "  _warn_prf(average, modifier, msg_start, len(result))\n",
            "/usr/local/lib/python3.8/dist-packages/sklearn/metrics/_classification.py:1318: UndefinedMetricWarning: Precision and F-score are ill-defined and being set to 0.0 in labels with no predicted samples. Use `zero_division` parameter to control this behavior.\n",
            "  _warn_prf(average, modifier, msg_start, len(result))\n",
            "/usr/local/lib/python3.8/dist-packages/sklearn/metrics/_classification.py:1318: UndefinedMetricWarning: Recall and F-score are ill-defined and being set to 0.0 in labels with no true samples. Use `zero_division` parameter to control this behavior.\n",
            "  _warn_prf(average, modifier, msg_start, len(result))\n",
            "/usr/local/lib/python3.8/dist-packages/sklearn/metrics/_classification.py:1318: UndefinedMetricWarning: Precision and F-score are ill-defined and being set to 0.0 in labels with no predicted samples. Use `zero_division` parameter to control this behavior.\n",
            "  _warn_prf(average, modifier, msg_start, len(result))\n",
            "/usr/local/lib/python3.8/dist-packages/sklearn/metrics/_classification.py:1318: UndefinedMetricWarning: Recall and F-score are ill-defined and being set to 0.0 in labels with no true samples. Use `zero_division` parameter to control this behavior.\n",
            "  _warn_prf(average, modifier, msg_start, len(result))\n"
          ]
        }
      ]
    },
    {
      "cell_type": "code",
      "source": [
        "print('Kết quả của mô hình Hidden Markov và thuật toán Viterbi trên tập test:\\n')\n",
        "y_pred, y_true_test = report(test_pred, test_gold)"
      ],
      "metadata": {
        "colab": {
          "base_uri": "https://localhost:8080/"
        },
        "id": "z7tSwWHr9SDv",
        "outputId": "6f9b8c9f-7ded-4eac-9777-701860159e0e"
      },
      "execution_count": null,
      "outputs": [
        {
          "output_type": "stream",
          "name": "stdout",
          "text": [
            "Kết quả của mô hình Hidden Markov và thuật toán Viterbi trên tập test:\n",
            "\n",
            "              precision    recall  f1-score   support\n",
            "\n",
            "       --s--       0.00      0.00      0.00         1\n",
            "           A       0.40      0.29      0.33         7\n",
            "           C       0.00      0.00      0.00         3\n",
            "          CH       0.93      1.00      0.97        14\n",
            "           E       0.89      0.53      0.67        15\n",
            "           L       1.00      0.33      0.50         6\n",
            "           N       0.34      0.81      0.48        16\n",
            "          Ni       0.00      0.00      0.00         0\n",
            "          Np       0.62      0.33      0.43        15\n",
            "           P       0.50      0.50      0.50         4\n",
            "           R       0.50      0.17      0.25        12\n",
            "           T       0.00      0.00      0.00         3\n",
            "           V       0.34      0.42      0.38        24\n",
            "           Y       0.00      0.00      0.00         0\n",
            "\n",
            "    accuracy                           0.48       120\n",
            "   macro avg       0.40      0.31      0.32       120\n",
            "weighted avg       0.55      0.48      0.48       120\n",
            "\n"
          ]
        },
        {
          "output_type": "stream",
          "name": "stderr",
          "text": [
            "/usr/local/lib/python3.8/dist-packages/sklearn/metrics/_classification.py:1318: UndefinedMetricWarning: Precision and F-score are ill-defined and being set to 0.0 in labels with no predicted samples. Use `zero_division` parameter to control this behavior.\n",
            "  _warn_prf(average, modifier, msg_start, len(result))\n",
            "/usr/local/lib/python3.8/dist-packages/sklearn/metrics/_classification.py:1318: UndefinedMetricWarning: Recall and F-score are ill-defined and being set to 0.0 in labels with no true samples. Use `zero_division` parameter to control this behavior.\n",
            "  _warn_prf(average, modifier, msg_start, len(result))\n",
            "/usr/local/lib/python3.8/dist-packages/sklearn/metrics/_classification.py:1318: UndefinedMetricWarning: Precision and F-score are ill-defined and being set to 0.0 in labels with no predicted samples. Use `zero_division` parameter to control this behavior.\n",
            "  _warn_prf(average, modifier, msg_start, len(result))\n",
            "/usr/local/lib/python3.8/dist-packages/sklearn/metrics/_classification.py:1318: UndefinedMetricWarning: Recall and F-score are ill-defined and being set to 0.0 in labels with no true samples. Use `zero_division` parameter to control this behavior.\n",
            "  _warn_prf(average, modifier, msg_start, len(result))\n",
            "/usr/local/lib/python3.8/dist-packages/sklearn/metrics/_classification.py:1318: UndefinedMetricWarning: Precision and F-score are ill-defined and being set to 0.0 in labels with no predicted samples. Use `zero_division` parameter to control this behavior.\n",
            "  _warn_prf(average, modifier, msg_start, len(result))\n",
            "/usr/local/lib/python3.8/dist-packages/sklearn/metrics/_classification.py:1318: UndefinedMetricWarning: Recall and F-score are ill-defined and being set to 0.0 in labels with no true samples. Use `zero_division` parameter to control this behavior.\n",
            "  _warn_prf(average, modifier, msg_start, len(result))\n"
          ]
        }
      ]
    },
    {
      "cell_type": "markdown",
      "source": [
        "## **VNCORE**"
      ],
      "metadata": {
        "id": "dM3YY-2S9fu3"
      }
    },
    {
      "cell_type": "code",
      "source": [
        "y_pred = []\n",
        "for word_tag in test_gold:\n",
        "    word_tag_tuple = word_tag.split()\n",
        "    if len(word_tag_tuple) != 2: \n",
        "        print()\n",
        "        continue\n",
        "\n",
        "    word, tag = word_tag_tuple\n",
        "    if '_' not in word: pred = model.annotate_text(word)\n",
        "    else: pred = model.annotate_text(word.replace('_', ' '))\n",
        "\n",
        "    print(word+\"/\"+pred[0][0]['posTag'], end=' ') \n",
        "    y_pred.append(pred[0][0]['posTag'])"
      ],
      "metadata": {
        "colab": {
          "base_uri": "https://localhost:8080/"
        },
        "id": "jE7H4g8g9b4t",
        "outputId": "ad573022-3c38-4c09-d8a2-b1257b6b2b2b"
      },
      "execution_count": null,
      "outputs": [
        {
          "output_type": "stream",
          "name": "stdout",
          "text": [
            "SUV/Np chạy/V xăng/N ,/CH sạc/V điện/N hiện/N có/V lượng/N bình_chọn/V cao/A nhất/A phân/V khúc/N so/V với/E các/L đối_thủ/N thuần/A động_cơ_đốt_trong/V ./CH \n",
            "Nhưng/C sự/N thực_hiện/V vẫn/R còn/C chưa/R phù_hợp/V ./CH \n",
            "Những/L ngày/N đẹp_đẽ/A ấy/P ,/CH bố/N luôn/R dành/V thời_gian/N để/E vui_vẻ/A với/E anh_em/N tôi/P ./CH \n",
            "Cổ_động_viên/Np đốt_phá/V trong/E bạo_loạn/V ở/E Bỉ/Np ./CH \n",
            "CĐV/Np tự/P làm/V VAR/Np bằng/E ống_nhòm/N gây/V sốt/V ./CH \n",
            "Bắc_Kinh/Np cấm/V nhân_viên/N chống/V dịch/V chặn/V cổng/N nhà/N dân/N ./CH \n",
            "Ukraine/Np nghi/V Nga/Np sắp/R điều/N thêm/V quân/N từ/E Belarus/Np ./CH \n",
            "Lưới_điện/Np Ukraine/Np bên/N bờ/N vực/V sụp_đổ/V trước/E đòn/N tên_lửa/N Nga/Np ./CH \n",
            "Châu_Âu/Np chạy_đua/V bảo_vệ/V huyết_mạch/N năng_lượng/N dưới/E đáy/N biển/N ./CH \n",
            "Con_mèo/Nc trèo/V cây/N cau/N ./CH \n",
            "Con_chuột/Nc trèo/V cây/N cau/N ./CH \n",
            "Con_chuột/Nc hỏi/V con_mèo/Nc ./CH \n",
            "Con/Np trèo/V là/V con/N nào/P ./CH "
          ]
        }
      ]
    },
    {
      "cell_type": "code",
      "source": [
        "print('Kết quả khi sử dụng thư viện VnCoreNLP trên tập test:\\n')\n",
        "print(classification_report(y_pred, y_true_test))"
      ],
      "metadata": {
        "colab": {
          "base_uri": "https://localhost:8080/"
        },
        "id": "RMphnopb94d8",
        "outputId": "98cd23db-7130-4002-9afe-ca58e13dea3a"
      },
      "execution_count": null,
      "outputs": [
        {
          "output_type": "stream",
          "name": "stdout",
          "text": [
            "Kết quả khi sử dụng thư viện VnCoreNLP trên tập test:\n",
            "\n",
            "              precision    recall  f1-score   support\n",
            "\n",
            "           A       1.00      1.00      1.00         5\n",
            "           C       1.00      1.00      1.00         2\n",
            "          CH       1.00      1.00      1.00        15\n",
            "           E       1.00      1.00      1.00         9\n",
            "           L       1.00      1.00      1.00         2\n",
            "           N       0.82      1.00      0.90        31\n",
            "          Nc       0.00      0.00      0.00         4\n",
            "          Ni       0.00      0.00      0.00         0\n",
            "          Np       1.00      0.57      0.73        14\n",
            "           P       1.00      1.00      1.00         4\n",
            "           R       1.00      1.00      1.00         4\n",
            "           V       1.00      0.97      0.98        30\n",
            "           Y       0.00      0.00      0.00         0\n",
            "\n",
            "    accuracy                           0.91       120\n",
            "   macro avg       0.76      0.73      0.74       120\n",
            "weighted avg       0.92      0.91      0.90       120\n",
            "\n"
          ]
        },
        {
          "output_type": "stream",
          "name": "stderr",
          "text": [
            "/usr/local/lib/python3.8/dist-packages/sklearn/metrics/_classification.py:1318: UndefinedMetricWarning: Precision and F-score are ill-defined and being set to 0.0 in labels with no predicted samples. Use `zero_division` parameter to control this behavior.\n",
            "  _warn_prf(average, modifier, msg_start, len(result))\n",
            "/usr/local/lib/python3.8/dist-packages/sklearn/metrics/_classification.py:1318: UndefinedMetricWarning: Recall and F-score are ill-defined and being set to 0.0 in labels with no true samples. Use `zero_division` parameter to control this behavior.\n",
            "  _warn_prf(average, modifier, msg_start, len(result))\n",
            "/usr/local/lib/python3.8/dist-packages/sklearn/metrics/_classification.py:1318: UndefinedMetricWarning: Precision and F-score are ill-defined and being set to 0.0 in labels with no predicted samples. Use `zero_division` parameter to control this behavior.\n",
            "  _warn_prf(average, modifier, msg_start, len(result))\n",
            "/usr/local/lib/python3.8/dist-packages/sklearn/metrics/_classification.py:1318: UndefinedMetricWarning: Recall and F-score are ill-defined and being set to 0.0 in labels with no true samples. Use `zero_division` parameter to control this behavior.\n",
            "  _warn_prf(average, modifier, msg_start, len(result))\n",
            "/usr/local/lib/python3.8/dist-packages/sklearn/metrics/_classification.py:1318: UndefinedMetricWarning: Precision and F-score are ill-defined and being set to 0.0 in labels with no predicted samples. Use `zero_division` parameter to control this behavior.\n",
            "  _warn_prf(average, modifier, msg_start, len(result))\n",
            "/usr/local/lib/python3.8/dist-packages/sklearn/metrics/_classification.py:1318: UndefinedMetricWarning: Recall and F-score are ill-defined and being set to 0.0 in labels with no true samples. Use `zero_division` parameter to control this behavior.\n",
            "  _warn_prf(average, modifier, msg_start, len(result))\n"
          ]
        }
      ]
    }
  ]
}